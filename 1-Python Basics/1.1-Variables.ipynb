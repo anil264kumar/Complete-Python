{
 "cells": [
  {
   "cell_type": "markdown",
   "id": "577a023c",
   "metadata": {},
   "source": [
    "Variables -- to store data that can be referenced and manipulated in a program.\n",
    "In python , variables don't need explicit declaration to resever memory space.\n",
    "Declaration happens automatically when assing a value to the variable."
   ]
  },
  {
   "cell_type": "code",
   "execution_count": 4,
   "id": "59e22760",
   "metadata": {},
   "outputs": [
    {
     "name": "stdout",
     "output_type": "stream",
     "text": [
      "age:  32\n",
      "Height:  6.0\n",
      "Name:  anil\n"
     ]
    }
   ],
   "source": [
    "## Declaring and assigning Vaiables\n",
    "\n",
    "age=32\n",
    "height=6.0\n",
    "name=\"anil\"\n",
    "is_student=True\n",
    "\n",
    "## Printing\n",
    "\n",
    "print(\"age: \",age)\n",
    "print(\"Height: \",height)\n",
    "print(\"Name: \",name)\n"
   ]
  },
  {
   "cell_type": "code",
   "execution_count": 1,
   "id": "ad2998d9",
   "metadata": {},
   "outputs": [],
   "source": [
    "## Naming Convention\n",
    "## Variables names should be desciptive\n",
    "## They must start with a letter or an \"_\"  and contains letter, numbers and underscores\n",
    "## Variables names case senstive\n",
    "\n",
    "## Valid variable names\n",
    "\n",
    "first_name = \"Anil\"\n",
    "last_name=\"Kumar\"\n"
   ]
  },
  {
   "cell_type": "code",
   "execution_count": 2,
   "id": "b3ea8d8b",
   "metadata": {},
   "outputs": [
    {
     "ename": "SyntaxError",
     "evalue": "invalid syntax. Maybe you meant '==' or ':=' instead of '='? (3575759103.py, line 4)",
     "output_type": "error",
     "traceback": [
      "  \u001b[36mCell\u001b[39m\u001b[36m \u001b[39m\u001b[32mIn[2]\u001b[39m\u001b[32m, line 4\u001b[39m\n\u001b[31m    \u001b[39m\u001b[31m@name=\"kumar\"\u001b[39m\n     ^\n\u001b[31mSyntaxError\u001b[39m\u001b[31m:\u001b[39m invalid syntax. Maybe you meant '==' or ':=' instead of '='?\n"
     ]
    }
   ],
   "source": [
    "## Invalid variable name\n",
    "\n",
    "#2age=34\n",
    "@name=\"kumar\""
   ]
  },
  {
   "cell_type": "code",
   "execution_count": 3,
   "id": "ff0feb0e",
   "metadata": {},
   "outputs": [],
   "source": [
    "##case senstivity\n",
    "\n",
    "name=\"anil\"\n",
    "Name=\"kumar\""
   ]
  },
  {
   "cell_type": "code",
   "execution_count": 4,
   "id": "fadf871c",
   "metadata": {},
   "outputs": [
    {
     "name": "stdout",
     "output_type": "stream",
     "text": [
      "<class 'str'>\n"
     ]
    }
   ],
   "source": [
    "## Understanding Variable Types\n",
    "## Python is dynamically typed, type of a variable is determined at runtime\n",
    "age=25\n",
    "height=6.1\n",
    "name=\"Kumar\"\n",
    "\n",
    "print(type(name))"
   ]
  },
  {
   "cell_type": "code",
   "execution_count": 5,
   "id": "2dbc3492",
   "metadata": {},
   "outputs": [
    {
     "data": {
      "text/plain": [
       "float"
      ]
     },
     "execution_count": 5,
     "metadata": {},
     "output_type": "execute_result"
    }
   ],
   "source": [
    "## Type checking and conversion\n",
    "\n",
    "type(height)"
   ]
  },
  {
   "cell_type": "code",
   "execution_count": 7,
   "id": "7fcaaf83",
   "metadata": {},
   "outputs": [
    {
     "name": "stdout",
     "output_type": "stream",
     "text": [
      "<class 'int'>\n",
      "24\n",
      "<class 'str'>\n"
     ]
    }
   ],
   "source": [
    "age=24\n",
    "print(type(age))\n",
    "\n",
    "# Type conversion\n",
    "age_str=str(age)\n",
    "print(age_str)\n",
    "print(type(age_str))\n"
   ]
  },
  {
   "cell_type": "code",
   "execution_count": 8,
   "id": "c719ad76",
   "metadata": {},
   "outputs": [
    {
     "name": "stdout",
     "output_type": "stream",
     "text": [
      "<class 'int'>\n"
     ]
    }
   ],
   "source": [
    "age='24'\n",
    "print(type(int(age)))"
   ]
  },
  {
   "cell_type": "code",
   "execution_count": 9,
   "id": "caa7d45d",
   "metadata": {},
   "outputs": [
    {
     "ename": "ValueError",
     "evalue": "invalid literal for int() with base 10: 'anil'",
     "output_type": "error",
     "traceback": [
      "\u001b[31m---------------------------------------------------------------------------\u001b[39m",
      "\u001b[31mValueError\u001b[39m                                Traceback (most recent call last)",
      "\u001b[36mCell\u001b[39m\u001b[36m \u001b[39m\u001b[32mIn[9]\u001b[39m\u001b[32m, line 2\u001b[39m\n\u001b[32m      1\u001b[39m name=\u001b[33m\"\u001b[39m\u001b[33manil\u001b[39m\u001b[33m\"\u001b[39m\n\u001b[32m----> \u001b[39m\u001b[32m2\u001b[39m \u001b[38;5;28;43mint\u001b[39;49m\u001b[43m(\u001b[49m\u001b[43mname\u001b[49m\u001b[43m)\u001b[49m\n",
      "\u001b[31mValueError\u001b[39m: invalid literal for int() with base 10: 'anil'"
     ]
    }
   ],
   "source": [
    "name=\"anil\"\n",
    "int(name)"
   ]
  },
  {
   "cell_type": "code",
   "execution_count": 10,
   "id": "f1ca7518",
   "metadata": {},
   "outputs": [
    {
     "data": {
      "text/plain": [
       "float"
      ]
     },
     "execution_count": 10,
     "metadata": {},
     "output_type": "execute_result"
    }
   ],
   "source": [
    "height=5.9\n",
    "type(height)"
   ]
  },
  {
   "cell_type": "code",
   "execution_count": 12,
   "id": "8adaf995",
   "metadata": {},
   "outputs": [
    {
     "data": {
      "text/plain": [
       "5.0"
      ]
     },
     "execution_count": 12,
     "metadata": {},
     "output_type": "execute_result"
    }
   ],
   "source": [
    "float(int(height))"
   ]
  },
  {
   "cell_type": "code",
   "execution_count": 1,
   "id": "732820a6",
   "metadata": {},
   "outputs": [
    {
     "name": "stdout",
     "output_type": "stream",
     "text": [
      "10 <class 'int'>\n",
      "Hello <class 'str'>\n",
      "4.33 <class 'float'>\n",
      "<class 'bool'>\n"
     ]
    }
   ],
   "source": [
    "## Dynamic Typing\n",
    "## Python allows the type of a variable to change as the program executes\n",
    "\n",
    "var=10 # int\n",
    "print(var,type(var))\n",
    "\n",
    "var=\"Hello\"\n",
    "print(var,type(var))\n",
    "\n",
    "var=4.33\n",
    "print(var,type(var))\n",
    "\n",
    "var = True \n",
    "print(type(var))"
   ]
  },
  {
   "cell_type": "code",
   "execution_count": 4,
   "id": "23eb259d",
   "metadata": {},
   "outputs": [
    {
     "name": "stdout",
     "output_type": "stream",
     "text": [
      "44 <class 'int'>\n"
     ]
    }
   ],
   "source": [
    "## input\n",
    "\n",
    "var = int(input(\"What is you age?\"))\n",
    "print(var,type(var))\n"
   ]
  },
  {
   "cell_type": "code",
   "execution_count": 20,
   "id": "6efee8cc",
   "metadata": {},
   "outputs": [
    {
     "name": "stdout",
     "output_type": "stream",
     "text": [
      "Sum:  73.0\n",
      "Difference:  31.0\n",
      "Product:  1092.0\n",
      "Quotient:  2.4761904761904763\n"
     ]
    }
   ],
   "source": [
    "### Simple calculator\n",
    "\n",
    "num1=float(input(\"Enter first number:\"))\n",
    "num2=float(input(\"Enter second number:\"))\n",
    "\n",
    "sum=num1+num2\n",
    "difference = num1-num2\n",
    "product=num1*num2\n",
    "quotient=num1/num2\n",
    "\n",
    "print(\"Sum: \",sum)\n",
    "print(\"Difference: \", difference)\n",
    "print(\"Product: \",product)\n",
    "print(\"Quotient: \",quotient)\n",
    " "
   ]
  },
  {
   "cell_type": "code",
   "execution_count": null,
   "id": "7cbf6cb3",
   "metadata": {},
   "outputs": [],
   "source": []
  }
 ],
 "metadata": {
  "kernelspec": {
   "display_name": "Python 3",
   "language": "python",
   "name": "python3"
  },
  "language_info": {
   "codemirror_mode": {
    "name": "ipython",
    "version": 3
   },
   "file_extension": ".py",
   "mimetype": "text/x-python",
   "name": "python",
   "nbconvert_exporter": "python",
   "pygments_lexer": "ipython3",
   "version": "3.12.0"
  }
 },
 "nbformat": 4,
 "nbformat_minor": 5
}
