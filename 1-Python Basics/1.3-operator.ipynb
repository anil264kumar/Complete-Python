{
 "cells": [
  {
   "cell_type": "code",
   "execution_count": 1,
   "id": "aa0e79ab",
   "metadata": {},
   "outputs": [
    {
     "name": "stdout",
     "output_type": "stream",
     "text": [
      "15\n",
      "5\n",
      "50\n",
      "2.0\n",
      "2\n",
      "0\n",
      "100000\n"
     ]
    }
   ],
   "source": [
    "## Arithmetic Operation\n",
    " \n",
    "a=10\n",
    "b=5\n",
    "\n",
    "add_res = a+b\n",
    "sub_res = a-b\n",
    "mult_res = a*b\n",
    "div_res = a/b\n",
    "floor_div_res = a//b\n",
    "modulus_res = a%b\n",
    "exponent_res = a**b\n",
    "\n",
    "print(add_res)\n",
    "print(sub_res)\n",
    "print(mult_res)\n",
    "print(div_res)\n",
    "print(floor_div_res)\n",
    "print(modulus_res)\n",
    "print(exponent_res)\n",
    "\n",
    "\n",
    "\n"
   ]
  },
  {
   "cell_type": "code",
   "execution_count": 2,
   "id": "7b6fa248",
   "metadata": {},
   "outputs": [
    {
     "data": {
      "text/plain": [
       "4.2"
      ]
     },
     "execution_count": 2,
     "metadata": {},
     "output_type": "execute_result"
    }
   ],
   "source": [
    "21/5"
   ]
  },
  {
   "cell_type": "code",
   "execution_count": null,
   "id": "3d27c1b2",
   "metadata": {},
   "outputs": [
    {
     "data": {
      "text/plain": [
       "True"
      ]
     },
     "execution_count": 3,
     "metadata": {},
     "output_type": "execute_result"
    }
   ],
   "source": [
    "## Comparison Operators\n",
    "## == Equal to \n",
    "\n",
    "a=10\n",
    "b=10\n",
    "\n",
    "a==b"
   ]
  },
  {
   "cell_type": "code",
   "execution_count": 4,
   "id": "518927ee",
   "metadata": {},
   "outputs": [
    {
     "data": {
      "text/plain": [
       "True"
      ]
     },
     "execution_count": 4,
     "metadata": {},
     "output_type": "execute_result"
    }
   ],
   "source": [
    "str1=\"Krish\"\n",
    "str2=\"Krish\"\n",
    "\n",
    "str1==str2"
   ]
  },
  {
   "cell_type": "code",
   "execution_count": 5,
   "id": "fb4c102c",
   "metadata": {},
   "outputs": [
    {
     "data": {
      "text/plain": [
       "True"
      ]
     },
     "execution_count": 5,
     "metadata": {},
     "output_type": "execute_result"
    }
   ],
   "source": [
    "str3=\"Krish\"\n",
    "str4=\"krish\"\n",
    "\n",
    "str3!=str4"
   ]
  },
  {
   "cell_type": "code",
   "execution_count": 6,
   "id": "b17395ba",
   "metadata": {},
   "outputs": [
    {
     "data": {
      "text/plain": [
       "True"
      ]
     },
     "execution_count": 6,
     "metadata": {},
     "output_type": "execute_result"
    }
   ],
   "source": [
    "## Greater than >\n",
    "\n",
    "num1=55\n",
    "num2=34\n",
    "\n",
    "num1>num2"
   ]
  },
  {
   "cell_type": "code",
   "execution_count": 7,
   "id": "f1ba789c",
   "metadata": {},
   "outputs": [
    {
     "data": {
      "text/plain": [
       "False"
      ]
     },
     "execution_count": 7,
     "metadata": {},
     "output_type": "execute_result"
    }
   ],
   "source": [
    "## Less then <\n",
    "\n",
    "num1<num2"
   ]
  },
  {
   "cell_type": "code",
   "execution_count": 8,
   "id": "1567f6de",
   "metadata": {},
   "outputs": [
    {
     "name": "stdout",
     "output_type": "stream",
     "text": [
      "True\n"
     ]
    }
   ],
   "source": [
    "## Greater than or equal to >=\n",
    "\n",
    "number1=35\n",
    "number2=35\n",
    "\n",
    "print(number1>=number2)"
   ]
  },
  {
   "cell_type": "code",
   "execution_count": 9,
   "id": "bc9cb846",
   "metadata": {},
   "outputs": [
    {
     "data": {
      "text/plain": [
       "True"
      ]
     },
     "execution_count": 9,
     "metadata": {},
     "output_type": "execute_result"
    }
   ],
   "source": [
    "## Less than or equal to \n",
    "number1<=number2"
   ]
  },
  {
   "cell_type": "code",
   "execution_count": 11,
   "id": "c136ed5f",
   "metadata": {},
   "outputs": [
    {
     "name": "stdout",
     "output_type": "stream",
     "text": [
      "False\n"
     ]
    }
   ],
   "source": [
    "## Logical Operators\n",
    "## AND NOT OR   \n",
    "\n",
    "x=False\n",
    "y=True\n",
    "\n",
    "result = x and y\n",
    "print(result)"
   ]
  },
  {
   "cell_type": "code",
   "execution_count": 12,
   "id": "f7b6e798",
   "metadata": {},
   "outputs": [
    {
     "name": "stdout",
     "output_type": "stream",
     "text": [
      "True\n"
     ]
    }
   ],
   "source": [
    "# OR\n",
    "result = x or y\n",
    "print(result)"
   ]
  },
  {
   "cell_type": "code",
   "execution_count": 13,
   "id": "d75e6c55",
   "metadata": {},
   "outputs": [
    {
     "data": {
      "text/plain": [
       "False"
      ]
     },
     "execution_count": 13,
     "metadata": {},
     "output_type": "execute_result"
    }
   ],
   "source": [
    "# NOT\n",
    "x=True\n",
    "not x"
   ]
  },
  {
   "cell_type": "code",
   "execution_count": 14,
   "id": "afbb77e8",
   "metadata": {},
   "outputs": [
    {
     "name": "stdout",
     "output_type": "stream",
     "text": [
      "Addition 51.0\n",
      "Subtraction 39.0\n",
      "Multiplication 270.0\n",
      "Division 7.5\n",
      "Floor Division 7.0\n",
      "Modulus 3.0\n",
      "Exponent 8303765625.0\n"
     ]
    }
   ],
   "source": [
    "## Simple Calculator\n",
    "\n",
    "num1= float(input(\"Enter first number:\"))\n",
    "num2= float(input(\"Enter second number:\"))\n",
    "\n",
    "## performing arithmetic operations\n",
    "addition = num1+num2\n",
    "subtraction=num1-num2\n",
    "multiplication=num1*num2\n",
    "division=num1/num2\n",
    "floor_division=num1//num2\n",
    "modulus=num1%num2\n",
    "exponent=num1**num2\n",
    "\n",
    "## Displaying results\n",
    "print(\"Addition\",addition)\n",
    "print(\"Subtraction\",subtraction)\n",
    "print(\"Multiplication\",multiplication)\n",
    "print(\"Division\",division)\n",
    "print(\"Floor Division\",floor_division)\n",
    "print(\"Modulus\",modulus)\n",
    "print(\"Exponent\", exponent)"
   ]
  },
  {
   "cell_type": "code",
   "execution_count": null,
   "id": "f7d28366",
   "metadata": {},
   "outputs": [],
   "source": []
  }
 ],
 "metadata": {
  "kernelspec": {
   "display_name": "Python 3",
   "language": "python",
   "name": "python3"
  },
  "language_info": {
   "codemirror_mode": {
    "name": "ipython",
    "version": 3
   },
   "file_extension": ".py",
   "mimetype": "text/x-python",
   "name": "python",
   "nbconvert_exporter": "python",
   "pygments_lexer": "ipython3",
   "version": "3.12.0"
  }
 },
 "nbformat": 4,
 "nbformat_minor": 5
}
