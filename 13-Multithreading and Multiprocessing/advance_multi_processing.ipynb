{
 "cells": [
  {
   "cell_type": "markdown",
   "id": "982933da",
   "metadata": {},
   "source": [
    "#### Multiprocessing with ProcessPoolExecutor"
   ]
  },
  {
   "cell_type": "code",
   "execution_count": 3,
   "id": "bb190059",
   "metadata": {},
   "outputs": [
    {
     "name": "stdout",
     "output_type": "stream",
     "text": [
      "Square : 1Square : 4Square : 9\n",
      "\n",
      "\n",
      "Square : 25Square : 16\n",
      "\n",
      "8.032378196716309\n"
     ]
    }
   ],
   "source": [
    "from concurrent.futures import ProcessPoolExecutor\n",
    "import time\n",
    "\n",
    "def square_number(number):\n",
    "    time.sleep(4)\n",
    "    print(f\"Square : {number * number}\")\n",
    "\n",
    "numbers=[1,2,3,4,5]\n",
    "\n",
    "\n",
    "t=time.time()\n",
    "with ProcessPoolExecutor(max_workers=3) as executor:\n",
    "    results=executor.map(square_number,numbers)\n",
    "\n",
    "\n",
    "finished_time=time.time()-t\n",
    "print(finished_time)\n"
   ]
  },
  {
   "cell_type": "code",
   "execution_count": null,
   "id": "23e50a1a",
   "metadata": {},
   "outputs": [],
   "source": []
  }
 ],
 "metadata": {
  "kernelspec": {
   "display_name": "Python 3",
   "language": "python",
   "name": "python3"
  },
  "language_info": {
   "codemirror_mode": {
    "name": "ipython",
    "version": 3
   },
   "file_extension": ".py",
   "mimetype": "text/x-python",
   "name": "python",
   "nbconvert_exporter": "python",
   "pygments_lexer": "ipython3",
   "version": "3.12.0"
  }
 },
 "nbformat": 4,
 "nbformat_minor": 5
}
