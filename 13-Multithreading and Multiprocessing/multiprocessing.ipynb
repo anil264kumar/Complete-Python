{
 "cells": [
  {
   "cell_type": "markdown",
   "id": "1aef736d",
   "metadata": {},
   "source": [
    "### Multiprocessing\n",
    "#### Processes that run in parallel\n",
    "- CPU-bound Tasks - Tasks that are heavy on CPU usage (e.g., mathematical computations, data )\n",
    "- Parallel execution - Multiple cores of the CPU\n"
   ]
  },
  {
   "cell_type": "code",
   "execution_count": 9,
   "id": "9e234ea7",
   "metadata": {},
   "outputs": [
    {
     "name": "stdout",
     "output_type": "stream",
     "text": [
      "Square: 0Cube: 0\n",
      "\n",
      "Square: 1Cube: 1\n",
      "\n",
      "Square: 4\n",
      "Cube: 8\n",
      "Square: 9Cube: 27\n",
      "\n",
      "Square: 16\n",
      "Cube: 64\n",
      "25.031026363372803\n"
     ]
    }
   ],
   "source": [
    "import multiprocessing\n",
    "import time\n",
    "\n",
    "def square_numbers():\n",
    "    for i in range(5):\n",
    "        time.sleep(5)\n",
    "        print(f\"Square: {i*i}\")\n",
    "\n",
    "def cube_numbers():\n",
    "    for i in range(5):\n",
    "        time.sleep(5)\n",
    "        print(f\"Cube: {i*i*i}\")\n",
    "\n",
    "\n",
    "if __name__==\"__main__\":\n",
    "\n",
    "    ## create 2 processes\n",
    "    p1=multiprocessing.Process(target=square_numbers)\n",
    "    p2=multiprocessing.Process(target=cube_numbers)\n",
    "\n",
    "\n",
    "    t=time.time()\n",
    "    ## start the process\n",
    "    p1.start()\n",
    "    p2.start()\n",
    "\n",
    "    ## wait for the process to complete\n",
    "    p1.join()\n",
    "    p2.join()\n",
    "\n",
    "\n",
    "    finished_time=time.time()-t\n",
    "    print(finished_time)\n",
    "\n",
    "\n",
    "\n",
    "\n",
    "\n"
   ]
  },
  {
   "cell_type": "code",
   "execution_count": null,
   "id": "b85d6b2a",
   "metadata": {},
   "outputs": [],
   "source": []
  },
  {
   "cell_type": "code",
   "execution_count": null,
   "id": "d7f63688",
   "metadata": {},
   "outputs": [],
   "source": []
  }
 ],
 "metadata": {
  "kernelspec": {
   "display_name": "Python 3",
   "language": "python",
   "name": "python3"
  },
  "language_info": {
   "name": "python",
   "version": "3.12.0"
  }
 },
 "nbformat": 4,
 "nbformat_minor": 5
}
