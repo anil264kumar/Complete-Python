{
 "cells": [
  {
   "cell_type": "markdown",
   "id": "af5ede45",
   "metadata": {},
   "source": [
    "#### Multithreading\n",
    "- When to use Multi Threading\n",
    "- I/O - bound tasks: Tasks that spend more time waiting for I/O operation(e.g., file operation, network requests)\n",
    "- Concurrent execution: When you want to improve the throughout of your application by performing multiple operation concurrently."
   ]
  },
  {
   "cell_type": "code",
   "execution_count": 4,
   "id": "0a37f11b",
   "metadata": {},
   "outputs": [
    {
     "name": "stdout",
     "output_type": "stream",
     "text": [
      "Number: 0\n",
      "Letter: a\n",
      "Number: 1\n",
      "Letter: b\n",
      "Number: 2Letter: c\n",
      "\n",
      "Letter: d\n",
      "Number: 3\n",
      "Letter: e\n",
      "Number: 4\n",
      "10.00346302986145\n"
     ]
    }
   ],
   "source": [
    "import threading\n",
    "import time\n",
    "\n",
    "def print_numbers():\n",
    "    for i in range(5):\n",
    "        time.sleep(2)\n",
    "        print(f\"Number: {i}\")\n",
    "\n",
    "def print_letter():\n",
    "    for letter in \"abcde\":\n",
    "        time.sleep(2)\n",
    "        print(f\"Letter: {letter}\")\n",
    "\n",
    "\n",
    "\n",
    "## create 2 threads\n",
    "t1=threading.Thread(target=print_numbers)\n",
    "t2=threading.Thread(target=print_letter)\n",
    "\n",
    "\n",
    "t=time.time()\n",
    "## start the thread\n",
    "t1.start()\n",
    "t2.start()\n",
    "\n",
    "\n",
    "## wait for the thread to complete\n",
    "t1.join()\n",
    "t2.join()\n",
    "\n",
    "finished_time = time.time() - t\n",
    "print(finished_time)\n"
   ]
  },
  {
   "cell_type": "code",
   "execution_count": null,
   "id": "a68d8f0d",
   "metadata": {},
   "outputs": [],
   "source": []
  }
 ],
 "metadata": {
  "kernelspec": {
   "display_name": "Python 3",
   "language": "python",
   "name": "python3"
  },
  "language_info": {
   "codemirror_mode": {
    "name": "ipython",
    "version": 3
   },
   "file_extension": ".py",
   "mimetype": "text/x-python",
   "name": "python",
   "nbconvert_exporter": "python",
   "pygments_lexer": "ipython3",
   "version": "3.12.0"
  }
 },
 "nbformat": 4,
 "nbformat_minor": 5
}
