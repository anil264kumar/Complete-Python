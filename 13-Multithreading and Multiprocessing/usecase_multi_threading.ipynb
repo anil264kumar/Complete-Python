{
 "cells": [
  {
   "cell_type": "code",
   "execution_count": 3,
   "id": "4cd7d362",
   "metadata": {},
   "outputs": [
    {
     "name": "stdout",
     "output_type": "stream",
     "text": [
      "Fetched 10735 characters from https://python.langchain.com/v0.2/docs/introduction/\n",
      "Fetched 82353 characters from https://python.langchain.com/v0.2/docs/concepts/\n",
      "Fetched 8690 characters from https://python.langchain.com/v0.2/docs/tutorials/\n",
      "All web pages fetched\n"
     ]
    }
   ],
   "source": [
    "'''\n",
    "Real-World Example: Multithreading for I/O-bound Tasks\n",
    "Scenario: Web Scraping\n",
    "Web scraping often involves making numerous network requests to \n",
    "fetch web pages. These tasks are I/O-bound because they spend a lot of\n",
    "time waiting for responses from servers. Multithreading can significantly\n",
    "improve the performance by allowing multiple web pages to be fetched concurrently.\n",
    "\n",
    "'''\n",
    "\n",
    "\n",
    "'''\n",
    "\n",
    "https://python.langchain.com/v0.2/docs/introduction/\n",
    "\n",
    "https://python.langchain.com/v0.2/docs/concepts/\n",
    "\n",
    "https://python.langchain.com/v0.2/docs/tutorials/\n",
    "'''\n",
    "\n",
    "\n",
    "import threading\n",
    "import requests\n",
    "from bs4 import BeautifulSoup\n",
    "\n",
    "urls=[\n",
    "    'https://python.langchain.com/v0.2/docs/introduction/',\n",
    "    'https://python.langchain.com/v0.2/docs/concepts/',\n",
    "    'https://python.langchain.com/v0.2/docs/tutorials/'\n",
    "\n",
    "]\n",
    "\n",
    "\n",
    "def fetch_content(url):\n",
    "    response=requests.get(url)\n",
    "    soup=BeautifulSoup(response.content,'html.parser')\n",
    "    print(f\"Fetched {len(soup.text)} characters from {url}\")\n",
    "\n",
    "\n",
    "threads=[]\n",
    "\n",
    "for url in urls:\n",
    "    thread=threading.Thread(target=fetch_content,args=(url,))\n",
    "    threads.append(thread)\n",
    "    thread.start()\n",
    "\n",
    "\n",
    "for thread in threads:\n",
    "    thread.join()\n",
    "\n",
    "\n",
    "print(\"All web pages fetched\")\n",
    "\n",
    "\n",
    "\n",
    "\n",
    "\n"
   ]
  },
  {
   "cell_type": "code",
   "execution_count": null,
   "id": "775c66d6",
   "metadata": {},
   "outputs": [],
   "source": []
  }
 ],
 "metadata": {
  "kernelspec": {
   "display_name": "Python 3",
   "language": "python",
   "name": "python3"
  },
  "language_info": {
   "codemirror_mode": {
    "name": "ipython",
    "version": 3
   },
   "file_extension": ".py",
   "mimetype": "text/x-python",
   "name": "python",
   "nbconvert_exporter": "python",
   "pygments_lexer": "ipython3",
   "version": "3.12.0"
  }
 },
 "nbformat": 4,
 "nbformat_minor": 5
}
