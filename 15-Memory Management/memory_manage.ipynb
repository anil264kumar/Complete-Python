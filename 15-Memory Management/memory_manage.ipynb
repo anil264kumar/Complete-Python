{
 "cells": [
  {
   "cell_type": "markdown",
   "id": "b56dfca2",
   "metadata": {},
   "source": [
    "#### Python Memory Management\n",
    "\n",
    "Memory management in Python involves a combination of automatic garbage collection, reference counting, and various internal optimizations to efficiently manage memory allocation and deallocation. Understanding these mechanisms can help developers write more efficient and robust applications.\n",
    "\n",
    "1. Key Concepts in Python Memory Management\n",
    "2. Memory Allocation and Deallocation\n",
    "3. Reference Counting\n",
    "4. Garbage Collection\n",
    "5. The gc Module\n",
    "6. Memory Management Best Practices"
   ]
  },
  {
   "cell_type": "markdown",
   "id": "813557dc",
   "metadata": {},
   "source": [
    "#### Reference Counting\n",
    "Reference counting is the primary method Python uses to manage memory. Each object in Python maintains a count of references pointing to it. When the reference count drops to zero, the memory occupied by the object is deallocated."
   ]
  },
  {
   "cell_type": "code",
   "execution_count": 1,
   "id": "ff486c45",
   "metadata": {},
   "outputs": [
    {
     "name": "stdout",
     "output_type": "stream",
     "text": [
      "2\n"
     ]
    }
   ],
   "source": [
    "import sys\n",
    "\n",
    "a=[]\n",
    "## 2 (one  reference from 'a and one from getrefcount())\n",
    "print(sys.getrefcount(a))"
   ]
  },
  {
   "cell_type": "code",
   "execution_count": 5,
   "id": "a9b0e226",
   "metadata": {},
   "outputs": [
    {
     "name": "stdout",
     "output_type": "stream",
     "text": [
      "3\n"
     ]
    }
   ],
   "source": [
    "b=a\n",
    "print(sys.getrefcount(b))"
   ]
  },
  {
   "cell_type": "code",
   "execution_count": 6,
   "id": "c6491d49",
   "metadata": {},
   "outputs": [
    {
     "name": "stdout",
     "output_type": "stream",
     "text": [
      "2\n"
     ]
    }
   ],
   "source": [
    "del b\n",
    "print(sys.getrefcount(a))"
   ]
  },
  {
   "cell_type": "markdown",
   "id": "c1b3d6aa",
   "metadata": {},
   "source": [
    "#### Garbage Collection\n",
    "Python includes a cyclic garbage collector to handle reference cycles. Reference cycles occur when objects reference each other, preventing their reference counts from reaching zero.\n"
   ]
  },
  {
   "cell_type": "code",
   "execution_count": 7,
   "id": "419bb147",
   "metadata": {},
   "outputs": [],
   "source": [
    "import gc\n",
    "## enable garbage collection\n",
    "\n",
    "gc.enable()"
   ]
  },
  {
   "cell_type": "code",
   "execution_count": 8,
   "id": "3dd69bfb",
   "metadata": {},
   "outputs": [],
   "source": [
    "gc.disable()"
   ]
  },
  {
   "cell_type": "code",
   "execution_count": 9,
   "id": "c39583fd",
   "metadata": {},
   "outputs": [
    {
     "data": {
      "text/plain": [
       "2014"
      ]
     },
     "execution_count": 9,
     "metadata": {},
     "output_type": "execute_result"
    }
   ],
   "source": [
    "gc.collect()"
   ]
  },
  {
   "cell_type": "code",
   "execution_count": 10,
   "id": "b5e4db7a",
   "metadata": {},
   "outputs": [
    {
     "name": "stdout",
     "output_type": "stream",
     "text": [
      "[{'collections': 191, 'collected': 1619, 'uncollectable': 0}, {'collections': 17, 'collected': 654, 'uncollectable': 0}, {'collections': 2, 'collected': 2014, 'uncollectable': 0}]\n"
     ]
    }
   ],
   "source": [
    "### Get garabage collection stats\n",
    "print(gc.get_stats())"
   ]
  },
  {
   "cell_type": "code",
   "execution_count": 13,
   "id": "ceb27f35",
   "metadata": {},
   "outputs": [
    {
     "name": "stdout",
     "output_type": "stream",
     "text": [
      "[]\n"
     ]
    }
   ],
   "source": [
    "### get unreacheable objects\n",
    "print(gc.garbage)"
   ]
  },
  {
   "cell_type": "markdown",
   "id": "b5fb0e78",
   "metadata": {},
   "source": [
    "#### Memory Management Best Practices\n",
    "1. Use Local Variables: Local variables have a shorter lifespan and are freed sooner than global variables.\n",
    "2. Avoid Circular References: Circular references can lead to memory leaks if not properly managed.\n",
    "3. Use Generators: Generators produce items one at a time and only keep one item in memory at a time, making them memory efficient.\n",
    "4. Explicitly Delete Objects: Use the del statement to delete variables and objects explicitly.\n",
    "5. Profile Memory Usage: Use memory profiling tools like tracemalloc and memory_profiler to identify memory leaks and optimize memory usage."
   ]
  },
  {
   "cell_type": "code",
   "execution_count": 17,
   "id": "a690bb7a",
   "metadata": {},
   "outputs": [
    {
     "name": "stdout",
     "output_type": "stream",
     "text": [
      "Object obj1 created\n",
      "Object obj2 created\n",
      "Object obj1 deleted\n",
      "Object obj2 deleted\n"
     ]
    },
    {
     "data": {
      "text/plain": [
       "9"
      ]
     },
     "execution_count": 17,
     "metadata": {},
     "output_type": "execute_result"
    }
   ],
   "source": [
    "import gc\n",
    "\n",
    "class MyObject:\n",
    "    def __init__(self,name):\n",
    "        self.name=name\n",
    "        print(f\"Object {self.name} created\")\n",
    "\n",
    "    def __del__(self):\n",
    "        print(f\"Object {self.name} deleted\")\n",
    "\n",
    "\n",
    "# create circular reference\n",
    "obj1=MyObject(\"obj1\")\n",
    "obj2=MyObject(\"obj2\")\n",
    "\n",
    "obj1.ref = obj2\n",
    "obj2.ref = obj1\n",
    "\n",
    "\n",
    "\n",
    "del obj1\n",
    "del obj2\n",
    "\n",
    "\n",
    "## Manually trigger the garbage collecton\n",
    "gc.collect()"
   ]
  },
  {
   "cell_type": "code",
   "execution_count": 18,
   "id": "06a28597",
   "metadata": {},
   "outputs": [
    {
     "name": "stdout",
     "output_type": "stream",
     "text": [
      "0\n",
      "1\n",
      "2\n",
      "3\n",
      "4\n",
      "5\n",
      "6\n",
      "7\n",
      "8\n",
      "9\n",
      "10\n",
      "11\n"
     ]
    }
   ],
   "source": [
    "### Generate for Memory Efficiency\n",
    "## Generators allow you to produce items one at a time, using memory efficient by only keeping one item in memory at a time.\n",
    "\n",
    "\n",
    "def generate_numbers(n):\n",
    "    for i in range(n):\n",
    "        yield i\n",
    "\n",
    "\n",
    "## using the generator\n",
    "for num in generate_numbers(100000):\n",
    "    print(num)\n",
    "    if num>10:\n",
    "        break\n"
   ]
  },
  {
   "cell_type": "code",
   "execution_count": 25,
   "id": "6bcd9f95",
   "metadata": {},
   "outputs": [],
   "source": [
    "### Profiling Memory usage wiht tracemalloc\n",
    "import tracemalloc\n",
    "\n",
    "def create_list():\n",
    "    return [i for i in range(1000)]\n",
    "\n",
    "\n",
    "def main():\n",
    "    tracemalloc.start()\n",
    "\n",
    "    create_list()\n",
    "\n",
    "    snapshot = tracemalloc.take_snapshot()\n",
    "    top_stats = snapshot.statistics('lineno')\n",
    "\n",
    "    print(\"[ Top 10]\")\n",
    "    for stat in top_stats[::]:\n",
    "        print(stat)"
   ]
  },
  {
   "cell_type": "code",
   "execution_count": 26,
   "id": "a1719c5e",
   "metadata": {},
   "outputs": [
    {
     "name": "stdout",
     "output_type": "stream",
     "text": [
      "[ Top 10]\n",
      "/home/kali-hunter/Documents/CompleteMachineLearning/Python/venv/lib/python3.12/ast.py:52: size=700 KiB, count=8927, average=80 B\n",
      "<frozen genericpath>:89: size=149 KiB, count=1291, average=118 B\n",
      "/home/kali-hunter/Documents/CompleteMachineLearning/Python/venv/lib/python3.12/site-packages/asttokens/line_numbers.py:47: size=138 KiB, count=728, average=194 B\n",
      "/home/kali-hunter/Documents/CompleteMachineLearning/Python/venv/lib/python3.12/site-packages/pygments/lexer.py:508: size=68.8 KiB, count=880, average=80 B\n",
      "/home/kali-hunter/Documents/CompleteMachineLearning/Python/venv/lib/python3.12/site-packages/executing/executing.py:171: size=63.8 KiB, count=893, average=73 B\n",
      "<string>:1: size=63.0 KiB, count=597, average=108 B\n",
      "/home/kali-hunter/Documents/CompleteMachineLearning/Python/venv/lib/python3.12/site-packages/pygments/lexer.py:591: size=55.3 KiB, count=941, average=60 B\n",
      "/home/kali-hunter/Documents/CompleteMachineLearning/Python/venv/lib/python3.12/site-packages/pygments/style.py:94: size=47.0 KiB, count=744, average=65 B\n",
      "/home/kali-hunter/Documents/CompleteMachineLearning/Python/venv/lib/python3.12/site-packages/executing/executing.py:154: size=41.5 KiB, count=483, average=88 B\n",
      "/home/kali-hunter/Documents/CompleteMachineLearning/Python/venv/lib/python3.12/linecache.py:137: size=40.8 KiB, count=466, average=90 B\n",
      "/home/kali-hunter/Documents/CompleteMachineLearning/Python/venv/lib/python3.12/site-packages/pygments/formatters/terminal256.py:44: size=36.1 KiB, count=748, average=49 B\n",
      "/home/kali-hunter/Documents/CompleteMachineLearning/Python/venv/lib/python3.12/site-packages/executing/executing.py:169: size=28.0 KiB, count=130, average=221 B\n",
      "/home/kali-hunter/Documents/CompleteMachineLearning/Python/venv/lib/python3.12/site-packages/pygments/token.py:44: size=26.9 KiB, count=408, average=68 B\n",
      "/home/kali-hunter/Documents/CompleteMachineLearning/Python/venv/lib/python3.12/site-packages/pygments/lexer.py:557: size=26.3 KiB, count=272, average=99 B\n",
      "/home/kali-hunter/Documents/CompleteMachineLearning/Python/venv/lib/python3.12/tracemalloc.py:558: size=25.8 KiB, count=474, average=56 B\n",
      "/home/kali-hunter/Documents/CompleteMachineLearning/Python/venv/lib/python3.12/site-packages/stack_data/core.py:131: size=24.1 KiB, count=440, average=56 B\n",
      "/home/kali-hunter/Documents/CompleteMachineLearning/Python/venv/lib/python3.12/site-packages/pygments/formatters/terminal256.py:242: size=23.9 KiB, count=206, average=119 B\n",
      "/home/kali-hunter/Documents/CompleteMachineLearning/Python/venv/lib/python3.12/site-packages/stack_data/core.py:115: size=23.3 KiB, count=426, average=56 B\n",
      "/home/kali-hunter/Documents/CompleteMachineLearning/Python/venv/lib/python3.12/site-packages/asttokens/line_numbers.py:32: size=20.3 KiB, count=564, average=37 B\n",
      "/home/kali-hunter/Documents/CompleteMachineLearning/Python/venv/lib/python3.12/site-packages/asttokens/line_numbers.py:49: size=18.7 KiB, count=3, average=6392 B\n",
      "/home/kali-hunter/Documents/CompleteMachineLearning/Python/venv/lib/python3.12/site-packages/stack_data/core.py:458: size=18.1 KiB, count=3, average=6181 B\n",
      "/home/kali-hunter/Documents/CompleteMachineLearning/Python/venv/lib/python3.12/site-packages/pygments/style.py:95: size=18.0 KiB, count=2, average=9240 B\n",
      "/home/kali-hunter/Documents/CompleteMachineLearning/Python/venv/lib/python3.12/site-packages/executing/executing.py:153: size=18.0 KiB, count=2, average=9236 B\n",
      "/home/kali-hunter/Documents/CompleteMachineLearning/Python/venv/lib/python3.12/site-packages/stack_data/core.py:153: size=18.0 KiB, count=383, average=48 B\n",
      "/home/kali-hunter/Documents/CompleteMachineLearning/Python/venv/lib/python3.12/site-packages/pygments/lexer.py:563: size=17.8 KiB, count=104, average=175 B\n",
      "/home/kali-hunter/Documents/CompleteMachineLearning/Python/venv/lib/python3.12/site-packages/pygments/lexer.py:46: size=17.4 KiB, count=60, average=298 B\n",
      "/home/kali-hunter/Documents/CompleteMachineLearning/Python/venv/lib/python3.12/tracemalloc.py:67: size=16.9 KiB, count=270, average=64 B\n",
      "/home/kali-hunter/Documents/CompleteMachineLearning/Python/venv/lib/python3.12/site-packages/stack_data/utils.py:170: size=16.6 KiB, count=150, average=113 B\n",
      "/home/kali-hunter/Documents/CompleteMachineLearning/Python/venv/lib/python3.12/dis.py:462: size=15.0 KiB, count=480, average=32 B\n",
      "/home/kali-hunter/Documents/CompleteMachineLearning/Python/venv/lib/python3.12/site-packages/asttokens/line_numbers.py:48: size=14.1 KiB, count=52, average=278 B\n",
      "/home/kali-hunter/Documents/CompleteMachineLearning/Python/venv/lib/python3.12/site-packages/pygments/regexopt.py:77: size=14.0 KiB, count=256, average=56 B\n",
      "/home/kali-hunter/Documents/CompleteMachineLearning/Python/venv/lib/python3.12/tracemalloc.py:193: size=12.8 KiB, count=272, average=48 B\n",
      "/home/kali-hunter/Documents/CompleteMachineLearning/Python/venv/lib/python3.12/site-packages/stack_data/core.py:461: size=12.1 KiB, count=204, average=61 B\n",
      "/home/kali-hunter/Documents/CompleteMachineLearning/Python/venv/lib/python3.12/site-packages/pygments/lexer.py:537: size=12.0 KiB, count=128, average=96 B\n",
      "<frozen genericpath>:92: size=10.2 KiB, count=186, average=56 B\n",
      "/home/kali-hunter/Documents/CompleteMachineLearning/Python/venv/lib/python3.12/site-packages/pygments/style.py:112: size=10.2 KiB, count=204, average=51 B\n",
      "/home/kali-hunter/Documents/CompleteMachineLearning/Python/venv/lib/python3.12/site-packages/pygments/formatters/terminal256.py:180: size=10176 B, count=94, average=108 B\n",
      "/home/kali-hunter/Documents/CompleteMachineLearning/Python/venv/lib/python3.12/tokenize.py:537: size=9152 B, count=163, average=56 B\n",
      "/home/kali-hunter/Documents/CompleteMachineLearning/Python/venv/lib/python3.12/site-packages/pygments/lexer.py:534: size=7168 B, count=128, average=56 B\n",
      "/home/kali-hunter/Documents/CompleteMachineLearning/Python/venv/lib/python3.12/site-packages/IPython/core/builtin_trap.py:77: size=6512 B, count=1, average=6512 B\n",
      "/home/kali-hunter/Documents/CompleteMachineLearning/Python/venv/lib/python3.12/site-packages/pygments/lexer.py:564: size=6176 B, count=120, average=51 B\n",
      "/home/kali-hunter/Documents/CompleteMachineLearning/Python/venv/lib/python3.12/site-packages/pygments/lexer.py:540: size=6144 B, count=128, average=48 B\n",
      "/home/kali-hunter/Documents/CompleteMachineLearning/Python/venv/lib/python3.12/site-packages/executing/executing.py:451: size=6085 B, count=66, average=92 B\n",
      "/home/kali-hunter/Documents/CompleteMachineLearning/Python/venv/lib/python3.12/site-packages/pygments/lexer.py:573: size=6080 B, count=87, average=70 B\n",
      "/home/kali-hunter/Documents/CompleteMachineLearning/Python/venv/lib/python3.12/site-packages/pygments/lexer.py:532: size=6064 B, count=128, average=47 B\n",
      "/home/kali-hunter/Documents/CompleteMachineLearning/Python/venv/lib/python3.12/site-packages/IPython/core/ultratb.py:650: size=5950 B, count=8, average=744 B\n",
      "/home/kali-hunter/Documents/CompleteMachineLearning/Python/venv/lib/python3.12/ast.py:405: size=5900 B, count=112, average=53 B\n",
      "/home/kali-hunter/Documents/CompleteMachineLearning/Python/venv/lib/python3.12/site-packages/stack_data/core.py:756: size=5472 B, count=108, average=51 B\n",
      "/home/kali-hunter/Documents/CompleteMachineLearning/Python/venv/lib/python3.12/codeop.py:118: size=5405 B, count=80, average=68 B\n",
      "/home/kali-hunter/Documents/CompleteMachineLearning/Python/venv/lib/python3.12/dis.py:626: size=5344 B, count=167, average=32 B\n",
      "/home/kali-hunter/Documents/CompleteMachineLearning/Python/venv/lib/python3.12/site-packages/pygments/style.py:70: size=5264 B, count=112, average=47 B\n",
      "/home/kali-hunter/Documents/CompleteMachineLearning/Python/venv/lib/python3.12/site-packages/IPython/core/compilerop.py:86: size=5106 B, count=81, average=63 B\n",
      "/home/kali-hunter/Documents/CompleteMachineLearning/Python/venv/lib/python3.12/site-packages/pygments/lexer.py:523: size=4944 B, count=103, average=48 B\n",
      "/home/kali-hunter/Documents/CompleteMachineLearning/Python/venv/lib/python3.12/site-packages/executing/executing.py:212: size=4704 B, count=2, average=2352 B\n",
      "/home/kali-hunter/Documents/CompleteMachineLearning/Python/venv/lib/python3.12/site-packages/pygments/style.py:61: size=4240 B, count=13, average=326 B\n",
      "/home/kali-hunter/Documents/CompleteMachineLearning/Python/venv/lib/python3.12/site-packages/stack_data/utils.py:41: size=3776 B, count=118, average=32 B\n",
      "/home/kali-hunter/Documents/CompleteMachineLearning/Python/venv/lib/python3.12/site-packages/stack_data/core.py:101: size=3528 B, count=6, average=588 B\n",
      "/home/kali-hunter/Documents/CompleteMachineLearning/Python/venv/lib/python3.12/site-packages/pygments/style.py:96: size=2952 B, count=58, average=51 B\n",
      "/home/kali-hunter/Documents/CompleteMachineLearning/Python/venv/lib/python3.12/site-packages/executing/_position_node_finder.py:75: size=2944 B, count=8, average=368 B\n",
      "/home/kali-hunter/Documents/CompleteMachineLearning/Python/venv/lib/python3.12/site-packages/executing/executing.py:317: size=2824 B, count=14, average=202 B\n",
      "/home/kali-hunter/Documents/CompleteMachineLearning/Python/venv/lib/python3.12/json/decoder.py:353: size=2590 B, count=28, average=92 B\n",
      "/home/kali-hunter/Documents/CompleteMachineLearning/Python/venv/lib/python3.12/site-packages/IPython/core/compilerop.py:174: size=2231 B, count=30, average=74 B\n",
      "/home/kali-hunter/Documents/CompleteMachineLearning/Python/venv/lib/python3.12/site-packages/traitlets/traitlets.py:731: size=2176 B, count=35, average=62 B\n",
      "/home/kali-hunter/Documents/CompleteMachineLearning/Python/venv/lib/python3.12/site-packages/pygments/lexer.py:654: size=2176 B, count=16, average=136 B\n",
      "/home/kali-hunter/Documents/CompleteMachineLearning/Python/venv/lib/python3.12/dis.py:458: size=1888 B, count=59, average=32 B\n",
      "/home/kali-hunter/Documents/CompleteMachineLearning/Python/venv/lib/python3.12/site-packages/traitlets/traitlets.py:1543: size=1806 B, count=29, average=62 B\n",
      "/home/kali-hunter/Documents/CompleteMachineLearning/Python/venv/lib/python3.12/site-packages/stack_data/utils.py:156: size=1672 B, count=15, average=111 B\n",
      "/home/kali-hunter/Documents/CompleteMachineLearning/Python/venv/lib/python3.12/site-packages/jupyter_client/jsonutil.py:111: size=1650 B, count=33, average=50 B\n",
      "/home/kali-hunter/Documents/CompleteMachineLearning/Python/venv/lib/python3.12/site-packages/pygments/formatters/terminal256.py:221: size=1536 B, count=2, average=768 B\n",
      "/home/kali-hunter/Documents/CompleteMachineLearning/Python/venv/lib/python3.12/site-packages/stack_data/core.py:587: size=1504 B, count=17, average=88 B\n",
      "/home/kali-hunter/Documents/CompleteMachineLearning/Python/venv/lib/python3.12/dis.py:190: size=1446 B, count=8, average=181 B\n",
      "/home/kali-hunter/Documents/CompleteMachineLearning/Python/venv/lib/python3.12/site-packages/IPython/core/interactiveshell.py:3070: size=1379 B, count=1, average=1379 B\n",
      "/home/kali-hunter/Documents/CompleteMachineLearning/Python/venv/lib/python3.12/site-packages/executing/executing.py:1152: size=1376 B, count=43, average=32 B\n",
      "/home/kali-hunter/Documents/CompleteMachineLearning/Python/venv/lib/python3.12/site-packages/executing/executing.py:287: size=1376 B, count=17, average=81 B\n",
      "/home/kali-hunter/Documents/CompleteMachineLearning/Python/venv/lib/python3.12/site-packages/pygments/formatters/terminal256.py:186: size=1344 B, count=21, average=64 B\n",
      "/home/kali-hunter/Documents/CompleteMachineLearning/Python/venv/lib/python3.12/site-packages/jupyter_client/session.py:100: size=1251 B, count=8, average=156 B\n",
      "/home/kali-hunter/Documents/CompleteMachineLearning/Python/venv/lib/python3.12/dis.py:389: size=1244 B, count=25, average=50 B\n",
      "/home/kali-hunter/Documents/CompleteMachineLearning/Python/venv/lib/python3.12/dis.py:495: size=1219 B, count=26, average=47 B\n",
      "/home/kali-hunter/Documents/CompleteMachineLearning/Python/venv/lib/python3.12/site-packages/zmq/sugar/attrsettr.py:45: size=1175 B, count=25, average=47 B\n",
      "/home/kali-hunter/Documents/CompleteMachineLearning/Python/venv/lib/python3.12/site-packages/stack_data/core.py:616: size=1152 B, count=8, average=144 B\n",
      "/home/kali-hunter/Documents/CompleteMachineLearning/Python/venv/lib/python3.12/site-packages/executing/executing.py:223: size=1104 B, count=7, average=158 B\n",
      "/home/kali-hunter/Documents/CompleteMachineLearning/Python/venv/lib/python3.12/contextlib.py:105: size=1064 B, count=11, average=97 B\n",
      "/home/kali-hunter/Documents/CompleteMachineLearning/Python/venv/lib/python3.12/site-packages/zmq/sugar/socket.py:802: size=1056 B, count=6, average=176 B\n",
      "/home/kali-hunter/Documents/CompleteMachineLearning/Python/venv/lib/python3.12/site-packages/jupyter_client/session.py:1057: size=1017 B, count=8, average=127 B\n",
      "/home/kali-hunter/Documents/CompleteMachineLearning/Python/venv/lib/python3.12/site-packages/ipykernel/iostream.py:346: size=1016 B, count=14, average=73 B\n",
      "/home/kali-hunter/Documents/CompleteMachineLearning/Python/venv/lib/python3.12/site-packages/executing/executing.py:316: size=864 B, count=4, average=216 B\n",
      "/home/kali-hunter/Documents/CompleteMachineLearning/Python/venv/lib/python3.12/site-packages/IPython/core/history.py:958: size=857 B, count=4, average=214 B\n",
      "/home/kali-hunter/Documents/CompleteMachineLearning/Python/venv/lib/python3.12/site-packages/traitlets/traitlets.py:1514: size=840 B, count=7, average=120 B\n",
      "/home/kali-hunter/Documents/CompleteMachineLearning/Python/venv/lib/python3.12/site-packages/executing/executing.py:332: size=840 B, count=6, average=140 B\n",
      "/home/kali-hunter/Documents/CompleteMachineLearning/Python/venv/lib/python3.12/site-packages/asttokens/asttokens.py:43: size=840 B, count=6, average=140 B\n",
      "/home/kali-hunter/Documents/CompleteMachineLearning/Python/venv/lib/python3.12/site-packages/IPython/core/interactiveshell.py:3394: size=760 B, count=2, average=380 B\n",
      "/home/kali-hunter/Documents/CompleteMachineLearning/Python/venv/lib/python3.12/site-packages/pygments/__init__.py:65: size=684 B, count=6, average=114 B\n",
      "/home/kali-hunter/Documents/CompleteMachineLearning/Python/venv/lib/python3.12/site-packages/stack_data/utils.py:155: size=656 B, count=15, average=44 B\n",
      "/home/kali-hunter/Documents/CompleteMachineLearning/Python/venv/lib/python3.12/site-packages/stack_data/core.py:684: size=648 B, count=15, average=43 B\n",
      "/home/kali-hunter/Documents/CompleteMachineLearning/Python/venv/lib/python3.12/site-packages/executing/executing.py:278: size=648 B, count=3, average=216 B\n",
      "/home/kali-hunter/Documents/CompleteMachineLearning/Python/venv/lib/python3.12/site-packages/IPython/core/interactiveshell.py:3639: size=648 B, count=2, average=324 B\n",
      "/home/kali-hunter/Documents/CompleteMachineLearning/Python/venv/lib/python3.12/site-packages/stack_data/utils.py:145: size=640 B, count=10, average=64 B\n",
      "/home/kali-hunter/Documents/CompleteMachineLearning/Python/venv/lib/python3.12/site-packages/ipykernel/iostream.py:276: size=624 B, count=5, average=125 B\n",
      "/home/kali-hunter/Documents/CompleteMachineLearning/Python/venv/lib/python3.12/site-packages/stack_data/core.py:819: size=608 B, count=16, average=38 B\n",
      "/home/kali-hunter/Documents/CompleteMachineLearning/Python/venv/lib/python3.12/site-packages/executing/_position_node_finder.py:117: size=608 B, count=7, average=87 B\n",
      "/home/kali-hunter/Documents/CompleteMachineLearning/Python/venv/lib/python3.12/site-packages/ipykernel/ipkernel.py:368: size=584 B, count=2, average=292 B\n",
      "/home/kali-hunter/Documents/CompleteMachineLearning/Python/venv/lib/python3.12/dis.py:494: size=576 B, count=18, average=32 B\n",
      "/home/kali-hunter/Documents/CompleteMachineLearning/Python/venv/lib/python3.12/site-packages/IPython/core/history.py:1011: size=576 B, count=5, average=115 B\n",
      "/home/kali-hunter/Documents/CompleteMachineLearning/Python/venv/lib/python3.12/dis.py:477: size=561 B, count=10, average=56 B\n",
      "/home/kali-hunter/Documents/CompleteMachineLearning/Python/venv/lib/python3.12/site-packages/IPython/core/interactiveshell.py:3145: size=528 B, count=4, average=132 B\n",
      "/home/kali-hunter/Documents/CompleteMachineLearning/Python/venv/lib/python3.12/tracemalloc.py:479: size=524 B, count=4, average=131 B\n",
      "/home/kali-hunter/Documents/CompleteMachineLearning/Python/venv/lib/python3.12/site-packages/pygments/lexer.py:596: size=512 B, count=8, average=64 B\n",
      "/home/kali-hunter/Documents/CompleteMachineLearning/Python/venv/lib/python3.12/site-packages/IPython/core/ultratb.py:807: size=512 B, count=4, average=128 B\n",
      "/home/kali-hunter/Documents/CompleteMachineLearning/Python/venv/lib/python3.12/ast.py:428: size=509 B, count=10, average=51 B\n",
      "/home/kali-hunter/Documents/CompleteMachineLearning/Python/venv/lib/python3.12/site-packages/executing/executing.py:285: size=504 B, count=4, average=126 B\n",
      "/home/kali-hunter/Documents/CompleteMachineLearning/Python/venv/lib/python3.12/site-packages/IPython/core/interactiveshell.py:3699: size=488 B, count=3, average=163 B\n",
      "/home/kali-hunter/Documents/CompleteMachineLearning/Python/venv/lib/python3.12/site-packages/pygments/style.py:81: size=480 B, count=3, average=160 B\n",
      "/home/kali-hunter/Documents/CompleteMachineLearning/Python/venv/lib/python3.12/site-packages/ipykernel/kernelbase.py:508: size=480 B, count=2, average=240 B\n",
      "/home/kali-hunter/Documents/CompleteMachineLearning/Python/venv/lib/python3.12/site-packages/ipykernel/ipkernel.py:455: size=472 B, count=3, average=157 B\n",
      "/home/kali-hunter/Documents/CompleteMachineLearning/Python/venv/lib/python3.12/site-packages/pygments/style.py:92: size=456 B, count=7, average=65 B\n",
      "/home/kali-hunter/Documents/CompleteMachineLearning/Python/venv/lib/python3.12/site-packages/stack_data/core.py:828: size=448 B, count=8, average=56 B\n",
      "/home/kali-hunter/Documents/CompleteMachineLearning/Python/venv/lib/python3.12/site-packages/stack_data/core.py:740: size=448 B, count=8, average=56 B\n",
      "/home/kali-hunter/Documents/CompleteMachineLearning/Python/venv/lib/python3.12/site-packages/stack_data/core.py:615: size=448 B, count=8, average=56 B\n",
      "/home/kali-hunter/Documents/CompleteMachineLearning/Python/venv/lib/python3.12/site-packages/IPython/core/interactiveshell.py:3043: size=448 B, count=4, average=112 B\n",
      "/home/kali-hunter/Documents/CompleteMachineLearning/Python/venv/lib/python3.12/asyncio/events.py:84: size=432 B, count=5, average=86 B\n",
      "/home/kali-hunter/Documents/CompleteMachineLearning/Python/venv/lib/python3.12/site-packages/ipykernel/zmqshell.py:577: size=432 B, count=4, average=108 B\n",
      "/home/kali-hunter/Documents/CompleteMachineLearning/Python/venv/lib/python3.12/site-packages/ipykernel/kernelbase.py:764: size=424 B, count=2, average=212 B\n",
      "/home/kali-hunter/Documents/CompleteMachineLearning/Python/venv/lib/python3.12/site-packages/stack_data/core.py:763: size=416 B, count=8, average=52 B\n",
      "/home/kali-hunter/Documents/CompleteMachineLearning/Python/venv/lib/python3.12/site-packages/ipykernel/iostream.py:287: size=408 B, count=4, average=102 B\n",
      "/home/kali-hunter/Documents/CompleteMachineLearning/Python/venv/lib/python3.12/site-packages/IPython/core/ultratb.py:804: size=392 B, count=4, average=98 B\n",
      "/home/kali-hunter/Documents/CompleteMachineLearning/Python/venv/lib/python3.12/site-packages/ipykernel/iostream.py:684: size=386 B, count=7, average=55 B\n",
      "/home/kali-hunter/Documents/CompleteMachineLearning/Python/venv/lib/python3.12/site-packages/IPython/core/interactiveshell.py:3502: size=382 B, count=1, average=382 B\n",
      "/home/kali-hunter/Documents/CompleteMachineLearning/Python/venv/lib/python3.12/dis.py:481: size=365 B, count=6, average=61 B\n",
      "/home/kali-hunter/Documents/CompleteMachineLearning/Python/venv/lib/python3.12/site-packages/ipykernel/kernelbase.py:767: size=336 B, count=1, average=336 B\n",
      "/home/kali-hunter/Documents/CompleteMachineLearning/Python/venv/lib/python3.12/site-packages/stack_data/utils.py:81: size=328 B, count=5, average=66 B\n",
      "/home/kali-hunter/Documents/CompleteMachineLearning/Python/venv/lib/python3.12/site-packages/stack_data/core.py:824: size=320 B, count=8, average=40 B\n",
      "/home/kali-hunter/Documents/CompleteMachineLearning/Python/venv/lib/python3.12/tracemalloc.py:560: size=312 B, count=2, average=156 B\n",
      "/home/kali-hunter/Documents/CompleteMachineLearning/Python/venv/lib/python3.12/tracemalloc.py:423: size=312 B, count=2, average=156 B\n",
      "/home/kali-hunter/Documents/CompleteMachineLearning/Python/venv/lib/python3.12/site-packages/IPython/core/interactiveshell.py:3171: size=312 B, count=1, average=312 B\n",
      "/home/kali-hunter/Documents/CompleteMachineLearning/Python/venv/lib/python3.12/inspect.py:1335: size=296 B, count=3, average=99 B\n",
      "/home/kali-hunter/Documents/CompleteMachineLearning/Python/venv/lib/python3.12/site-packages/executing/executing.py:268: size=288 B, count=1, average=288 B\n",
      "/home/kali-hunter/Documents/CompleteMachineLearning/Python/venv/lib/python3.12/site-packages/IPython/core/tbtools.py:114: size=280 B, count=5, average=56 B\n",
      "/home/kali-hunter/Documents/CompleteMachineLearning/Python/venv/lib/python3.12/site-packages/IPython/core/tbtools.py:113: size=280 B, count=5, average=56 B\n",
      "/home/kali-hunter/Documents/CompleteMachineLearning/Python/venv/lib/python3.12/site-packages/IPython/core/tbtools.py:112: size=280 B, count=5, average=56 B\n",
      "/home/kali-hunter/Documents/CompleteMachineLearning/Python/venv/lib/python3.12/site-packages/jupyter_client/session.py:670: size=272 B, count=2, average=136 B\n",
      "/home/kali-hunter/Documents/CompleteMachineLearning/Python/venv/lib/python3.12/site-packages/jupyter_client/session.py:278: size=272 B, count=2, average=136 B\n",
      "/home/kali-hunter/Documents/CompleteMachineLearning/Python/venv/lib/python3.12/tracemalloc.py:533: size=264 B, count=2, average=132 B\n",
      "/home/kali-hunter/Documents/CompleteMachineLearning/Python/venv/lib/python3.12/site-packages/IPython/core/interactiveshell.py:3116: size=264 B, count=1, average=264 B\n",
      "/home/kali-hunter/Documents/CompleteMachineLearning/Python/venv/lib/python3.12/site-packages/tornado/platform/asyncio.py:241: size=256 B, count=4, average=64 B\n",
      "/home/kali-hunter/Documents/CompleteMachineLearning/Python/venv/lib/python3.12/site-packages/IPython/core/history.py:966: size=256 B, count=1, average=256 B\n",
      "/home/kali-hunter/Documents/CompleteMachineLearning/Python/venv/lib/python3.12/site-packages/IPython/core/history.py:965: size=256 B, count=1, average=256 B\n",
      "/tmp/ipykernel_155150/562401506.py:14: size=248 B, count=2, average=124 B\n",
      "/home/kali-hunter/Documents/CompleteMachineLearning/Python/venv/lib/python3.12/site-packages/ipykernel/kernelbase.py:398: size=248 B, count=1, average=248 B\n",
      "/home/kali-hunter/Documents/CompleteMachineLearning/Python/venv/lib/python3.12/site-packages/ipykernel/iostream.py:121: size=248 B, count=1, average=248 B\n",
      "/home/kali-hunter/Documents/CompleteMachineLearning/Python/venv/lib/python3.12/site-packages/IPython/core/interactiveshell.py:3271: size=240 B, count=4, average=60 B\n",
      "/home/kali-hunter/Documents/CompleteMachineLearning/Python/venv/lib/python3.12/inspect.py:265: size=240 B, count=2, average=120 B\n",
      "/home/kali-hunter/Documents/CompleteMachineLearning/Python/venv/lib/python3.12/site-packages/ipykernel/kernelbase.py:519: size=240 B, count=1, average=240 B\n",
      "/home/kali-hunter/Documents/CompleteMachineLearning/Python/venv/lib/python3.12/logging/__init__.py:1622: size=240 B, count=1, average=240 B\n",
      "/home/kali-hunter/Documents/CompleteMachineLearning/Python/venv/lib/python3.12/site-packages/zmq/sugar/socket.py:799: size=232 B, count=2, average=116 B\n",
      "/home/kali-hunter/Documents/CompleteMachineLearning/Python/venv/lib/python3.12/site-packages/ipykernel/compiler.py:91: size=226 B, count=3, average=75 B\n",
      "/home/kali-hunter/Documents/CompleteMachineLearning/Python/venv/lib/python3.12/json/encoder.py:249: size=224 B, count=2, average=112 B\n",
      "/home/kali-hunter/Documents/CompleteMachineLearning/Python/venv/lib/python3.12/site-packages/pygments/style.py:90: size=216 B, count=3, average=72 B\n",
      "/home/kali-hunter/Documents/CompleteMachineLearning/Python/venv/lib/python3.12/site-packages/executing/executing.py:156: size=216 B, count=3, average=72 B\n",
      "/home/kali-hunter/Documents/CompleteMachineLearning/Python/venv/lib/python3.12/contextlib.py:289: size=208 B, count=4, average=52 B\n",
      "/tmp/ipykernel_155150/451043146.py:1: size=208 B, count=2, average=104 B\n",
      "/home/kali-hunter/Documents/CompleteMachineLearning/Python/venv/lib/python3.12/site-packages/IPython/core/interactiveshell.py:3450: size=208 B, count=2, average=104 B\n",
      "/home/kali-hunter/Documents/CompleteMachineLearning/Python/venv/lib/python3.12/asyncio/base_events.py:792: size=208 B, count=2, average=104 B\n",
      "/home/kali-hunter/Documents/CompleteMachineLearning/Python/venv/lib/python3.12/site-packages/jupyter_client/session.py:1085: size=208 B, count=1, average=208 B\n",
      "/home/kali-hunter/Documents/CompleteMachineLearning/Python/venv/lib/python3.12/site-packages/jupyter_client/jsonutil.py:75: size=208 B, count=1, average=208 B\n",
      "/home/kali-hunter/Documents/CompleteMachineLearning/Python/venv/lib/python3.12/site-packages/ipykernel/kernelbase.py:759: size=208 B, count=1, average=208 B\n",
      "/home/kali-hunter/Documents/CompleteMachineLearning/Python/venv/lib/python3.12/site-packages/ipykernel/ipkernel.py:486: size=208 B, count=1, average=208 B\n",
      "/home/kali-hunter/Documents/CompleteMachineLearning/Python/venv/lib/python3.12/site-packages/jupyter_client/session.py:688: size=194 B, count=2, average=97 B\n",
      "/home/kali-hunter/Documents/CompleteMachineLearning/Python/venv/lib/python3.12/site-packages/asttokens/line_numbers.py:35: size=192 B, count=3, average=64 B\n",
      "/home/kali-hunter/Documents/CompleteMachineLearning/Python/venv/lib/python3.12/site-packages/IPython/core/ultratb.py:757: size=192 B, count=3, average=64 B\n",
      "/home/kali-hunter/Documents/CompleteMachineLearning/Python/venv/lib/python3.12/site-packages/jupyter_client/session.py:750: size=192 B, count=2, average=96 B\n",
      "/home/kali-hunter/Documents/CompleteMachineLearning/Python/venv/lib/python3.12/site-packages/IPython/core/async_helpers.py:128: size=192 B, count=1, average=192 B\n",
      "/home/kali-hunter/Documents/CompleteMachineLearning/Python/venv/lib/python3.12/site-packages/pygments/style.py:74: size=188 B, count=4, average=47 B\n",
      "/home/kali-hunter/Documents/CompleteMachineLearning/Python/venv/lib/python3.12/site-packages/stack_data/utils.py:108: size=184 B, count=5, average=37 B\n",
      "/home/kali-hunter/Documents/CompleteMachineLearning/Python/venv/lib/python3.12/site-packages/IPython/core/interactiveshell.py:3631: size=184 B, count=4, average=46 B\n",
      "/home/kali-hunter/Documents/CompleteMachineLearning/Python/venv/lib/python3.12/site-packages/IPython/core/history.py:982: size=180 B, count=4, average=45 B\n",
      "/home/kali-hunter/Documents/CompleteMachineLearning/Python/venv/lib/python3.12/site-packages/ipykernel/kernelbase.py:1175: size=173 B, count=2, average=86 B\n",
      "/home/kali-hunter/Documents/CompleteMachineLearning/Python/venv/lib/python3.12/site-packages/pygments/regexopt.py:63: size=168 B, count=3, average=56 B\n",
      "/home/kali-hunter/Documents/CompleteMachineLearning/Python/venv/lib/python3.12/site-packages/pygments/regexopt.py:39: size=168 B, count=3, average=56 B\n",
      "/home/kali-hunter/Documents/CompleteMachineLearning/Python/venv/lib/python3.12/site-packages/IPython/core/interactiveshell.py:3065: size=168 B, count=2, average=84 B\n",
      "/home/kali-hunter/Documents/CompleteMachineLearning/Python/venv/lib/python3.12/site-packages/IPython/core/interactiveshell.py:3279: size=160 B, count=4, average=40 B\n",
      "/tmp/ipykernel_155150/3244061370.py:8: size=160 B, count=1, average=160 B\n",
      "/tmp/ipykernel_155150/3244061370.py:4: size=160 B, count=1, average=160 B\n",
      "/home/kali-hunter/Documents/CompleteMachineLearning/Python/venv/lib/python3.12/site-packages/ipykernel/kernelbase.py:544: size=160 B, count=1, average=160 B\n",
      "/home/kali-hunter/Documents/CompleteMachineLearning/Python/venv/lib/python3.12/site-packages/IPython/core/interactiveshell.py:3615: size=160 B, count=1, average=160 B\n",
      "/home/kali-hunter/Documents/CompleteMachineLearning/Python/venv/lib/python3.12/site-packages/IPython/core/interactiveshell.py:3292: size=160 B, count=1, average=160 B\n",
      "/home/kali-hunter/Documents/CompleteMachineLearning/Python/venv/lib/python3.12/site-packages/IPython/core/interactiveshell.py:2175: size=160 B, count=1, average=160 B\n",
      "/home/kali-hunter/Documents/CompleteMachineLearning/Python/venv/lib/python3.12/site-packages/ipykernel/iostream.py:722: size=144 B, count=2, average=72 B\n",
      "/home/kali-hunter/Documents/CompleteMachineLearning/Python/venv/lib/python3.12/site-packages/IPython/core/compilerop.py:171: size=144 B, count=2, average=72 B\n",
      "/home/kali-hunter/Documents/CompleteMachineLearning/Python/venv/lib/python3.12/site-packages/tornado/queues.py:248: size=144 B, count=1, average=144 B\n",
      "/home/kali-hunter/Documents/CompleteMachineLearning/Python/venv/lib/python3.12/asyncio/base_events.py:427: size=144 B, count=1, average=144 B\n",
      "/home/kali-hunter/Documents/CompleteMachineLearning/Python/venv/lib/python3.12/site-packages/ipykernel/iostream.py:527: size=136 B, count=2, average=68 B\n",
      "<frozen posixpath>:413: size=134 B, count=1, average=134 B\n",
      "/home/kali-hunter/Documents/CompleteMachineLearning/Python/venv/lib/python3.12/site-packages/jupyter_client/jsonutil.py:73: size=128 B, count=2, average=64 B\n",
      "/home/kali-hunter/Documents/CompleteMachineLearning/Python/venv/lib/python3.12/site-packages/IPython/core/ultratb.py:908: size=128 B, count=2, average=64 B\n",
      "/home/kali-hunter/Documents/CompleteMachineLearning/Python/venv/lib/python3.12/site-packages/IPython/core/interactiveshell.py:3637: size=128 B, count=2, average=64 B\n",
      "/home/kali-hunter/Documents/CompleteMachineLearning/Python/venv/lib/python3.12/site-packages/IPython/core/interactiveshell.py:3114: size=128 B, count=2, average=64 B\n",
      "/home/kali-hunter/Documents/CompleteMachineLearning/Python/venv/lib/python3.12/re/__init__.py:289: size=128 B, count=2, average=64 B\n",
      "/home/kali-hunter/Documents/CompleteMachineLearning/Python/venv/lib/python3.12/site-packages/executing/executing.py:258: size=124 B, count=4, average=31 B\n",
      "/home/kali-hunter/Documents/CompleteMachineLearning/Python/venv/lib/python3.12/site-packages/IPython/core/interactiveshell.py:3607: size=120 B, count=3, average=40 B\n",
      "/home/kali-hunter/Documents/CompleteMachineLearning/Python/venv/lib/python3.12/site-packages/traitlets/traitlets.py:1540: size=120 B, count=2, average=60 B\n",
      "/home/kali-hunter/Documents/CompleteMachineLearning/Python/venv/lib/python3.12/site-packages/jupyter_client/session.py:672: size=120 B, count=1, average=120 B\n",
      "/home/kali-hunter/Documents/CompleteMachineLearning/Python/venv/lib/python3.12/asyncio/base_events.py:755: size=120 B, count=1, average=120 B\n",
      "/home/kali-hunter/Documents/CompleteMachineLearning/Python/venv/lib/python3.12/site-packages/IPython/core/interactiveshell.py:3474: size=115 B, count=2, average=58 B\n",
      "/home/kali-hunter/Documents/CompleteMachineLearning/Python/venv/lib/python3.12/site-packages/stack_data/utils.py:78: size=112 B, count=2, average=56 B\n",
      "/home/kali-hunter/Documents/CompleteMachineLearning/Python/venv/lib/python3.12/site-packages/stack_data/utils.py:68: size=112 B, count=2, average=56 B\n",
      "/home/kali-hunter/Documents/CompleteMachineLearning/Python/venv/lib/python3.12/site-packages/stack_data/core.py:821: size=112 B, count=2, average=56 B\n",
      "/home/kali-hunter/Documents/CompleteMachineLearning/Python/venv/lib/python3.12/site-packages/stack_data/core.py:595: size=112 B, count=2, average=56 B\n",
      "/home/kali-hunter/Documents/CompleteMachineLearning/Python/venv/lib/python3.12/site-packages/pygments/regexopt.py:66: size=112 B, count=2, average=56 B\n",
      "/home/kali-hunter/Documents/CompleteMachineLearning/Python/venv/lib/python3.12/site-packages/pygments/formatters/terminal256.py:138: size=112 B, count=2, average=56 B\n",
      "/home/kali-hunter/Documents/CompleteMachineLearning/Python/venv/lib/python3.12/site-packages/jupyter_client/session.py:738: size=112 B, count=2, average=56 B\n",
      "/home/kali-hunter/Documents/CompleteMachineLearning/Python/venv/lib/python3.12/site-packages/IPython/core/ultratb.py:875: size=112 B, count=2, average=56 B\n",
      "/home/kali-hunter/Documents/CompleteMachineLearning/Python/venv/lib/python3.12/site-packages/IPython/core/interactiveshell.py:3620: size=112 B, count=2, average=56 B\n",
      "/home/kali-hunter/Documents/CompleteMachineLearning/Python/venv/lib/python3.12/site-packages/jupyter_client/session.py:989: size=111 B, count=2, average=56 B\n",
      "/home/kali-hunter/Documents/CompleteMachineLearning/Python/venv/lib/python3.12/json/__init__.py:234: size=104 B, count=1, average=104 B\n",
      "/home/kali-hunter/Documents/CompleteMachineLearning/Python/venv/lib/python3.12/inspect.py:2102: size=104 B, count=1, average=104 B\n",
      "/home/kali-hunter/Documents/CompleteMachineLearning/Python/venv/lib/python3.12/site-packages/jupyter_client/session.py:200: size=96 B, count=2, average=48 B\n",
      "/home/kali-hunter/Documents/CompleteMachineLearning/Python/venv/lib/python3.12/site-packages/IPython/core/interactiveshell.py:3497: size=96 B, count=2, average=48 B\n",
      "/home/kali-hunter/Documents/CompleteMachineLearning/Python/venv/lib/python3.12/site-packages/IPython/core/history.py:969: size=96 B, count=2, average=48 B\n",
      "/home/kali-hunter/Documents/CompleteMachineLearning/Python/venv/lib/python3.12/enum.py:1536: size=96 B, count=2, average=48 B\n",
      "/home/kali-hunter/Documents/CompleteMachineLearning/Python/venv/lib/python3.12/inspect.py:2111: size=96 B, count=1, average=96 B\n",
      "/home/kali-hunter/Documents/CompleteMachineLearning/Python/venv/lib/python3.12/threading.py:327: size=88 B, count=2, average=44 B\n",
      "/home/kali-hunter/Documents/CompleteMachineLearning/Python/venv/lib/python3.12/site-packages/jupyter_client/session.py:996: size=88 B, count=2, average=44 B\n",
      "/home/kali-hunter/Documents/CompleteMachineLearning/Python/venv/lib/python3.12/site-packages/IPython/core/interactiveshell.py:3625: size=88 B, count=2, average=44 B\n",
      "/home/kali-hunter/Documents/CompleteMachineLearning/Python/venv/lib/python3.12/site-packages/IPython/core/interactiveshell.py:3068: size=88 B, count=2, average=44 B\n",
      "/home/kali-hunter/Documents/CompleteMachineLearning/Python/venv/lib/python3.12/inspect.py:2489: size=88 B, count=1, average=88 B\n",
      "/home/kali-hunter/Documents/CompleteMachineLearning/Python/venv/lib/python3.12/site-packages/jupyter_client/session.py:604: size=86 B, count=1, average=86 B\n",
      "/home/kali-hunter/Documents/CompleteMachineLearning/Python/venv/lib/python3.12/site-packages/IPython/core/history.py:1013: size=72 B, count=1, average=72 B\n",
      "/home/kali-hunter/Documents/CompleteMachineLearning/Python/venv/lib/python3.12/linecache.py:143: size=72 B, count=1, average=72 B\n",
      "/home/kali-hunter/Documents/CompleteMachineLearning/Python/venv/lib/python3.12/site-packages/executing/executing.py:248: size=64 B, count=2, average=32 B\n",
      "/home/kali-hunter/Documents/CompleteMachineLearning/Python/venv/lib/python3.12/threading.py:631: size=64 B, count=1, average=64 B\n",
      "/home/kali-hunter/Documents/CompleteMachineLearning/Python/venv/lib/python3.12/site-packages/zmq/sugar/socket.py:803: size=64 B, count=1, average=64 B\n",
      "/home/kali-hunter/Documents/CompleteMachineLearning/Python/venv/lib/python3.12/site-packages/pygments/formatters/terminal256.py:140: size=64 B, count=1, average=64 B\n",
      "/home/kali-hunter/Documents/CompleteMachineLearning/Python/venv/lib/python3.12/site-packages/pygments/formatters/terminal256.py:139: size=64 B, count=1, average=64 B\n",
      "/home/kali-hunter/Documents/CompleteMachineLearning/Python/venv/lib/python3.12/site-packages/pygments/formatters/terminal256.py:136: size=64 B, count=1, average=64 B\n",
      "/home/kali-hunter/Documents/CompleteMachineLearning/Python/venv/lib/python3.12/site-packages/jupyter_client/session.py:1053: size=64 B, count=1, average=64 B\n",
      "/home/kali-hunter/Documents/CompleteMachineLearning/Python/venv/lib/python3.12/site-packages/jupyter_client/session.py:663: size=64 B, count=1, average=64 B\n",
      "/home/kali-hunter/Documents/CompleteMachineLearning/Python/venv/lib/python3.12/site-packages/ipykernel/kernelbase.py:750: size=64 B, count=1, average=64 B\n",
      "/home/kali-hunter/Documents/CompleteMachineLearning/Python/venv/lib/python3.12/site-packages/ipykernel/kernelbase.py:710: size=64 B, count=1, average=64 B\n",
      "/home/kali-hunter/Documents/CompleteMachineLearning/Python/venv/lib/python3.12/site-packages/ipykernel/kernelbase.py:68: size=64 B, count=1, average=64 B\n",
      "/home/kali-hunter/Documents/CompleteMachineLearning/Python/venv/lib/python3.12/site-packages/ipykernel/ipkernel.py:482: size=64 B, count=1, average=64 B\n",
      "/home/kali-hunter/Documents/CompleteMachineLearning/Python/venv/lib/python3.12/site-packages/ipykernel/ipkernel.py:390: size=64 B, count=1, average=64 B\n",
      "/home/kali-hunter/Documents/CompleteMachineLearning/Python/venv/lib/python3.12/site-packages/ipykernel/ipkernel.py:389: size=64 B, count=1, average=64 B\n",
      "/home/kali-hunter/Documents/CompleteMachineLearning/Python/venv/lib/python3.12/site-packages/ipykernel/ipkernel.py:387: size=64 B, count=1, average=64 B\n",
      "/home/kali-hunter/Documents/CompleteMachineLearning/Python/venv/lib/python3.12/site-packages/ipykernel/ipkernel.py:300: size=64 B, count=1, average=64 B\n",
      "/home/kali-hunter/Documents/CompleteMachineLearning/Python/venv/lib/python3.12/site-packages/ipykernel/ipkernel.py:297: size=64 B, count=1, average=64 B\n",
      "/home/kali-hunter/Documents/CompleteMachineLearning/Python/venv/lib/python3.12/site-packages/executing/executing.py:441: size=64 B, count=1, average=64 B\n",
      "/home/kali-hunter/Documents/CompleteMachineLearning/Python/venv/lib/python3.12/site-packages/IPython/core/interactiveshell.py:3688: size=64 B, count=1, average=64 B\n",
      "/home/kali-hunter/Documents/CompleteMachineLearning/Python/venv/lib/python3.12/site-packages/IPython/core/interactiveshell.py:3363: size=64 B, count=1, average=64 B\n",
      "/home/kali-hunter/Documents/CompleteMachineLearning/Python/venv/lib/python3.12/site-packages/IPython/core/interactiveshell.py:3360: size=64 B, count=1, average=64 B\n",
      "/home/kali-hunter/Documents/CompleteMachineLearning/Python/venv/lib/python3.12/site-packages/IPython/core/interactiveshell.py:3066: size=64 B, count=1, average=64 B\n",
      "/home/kali-hunter/Documents/CompleteMachineLearning/Python/venv/lib/python3.12/tokenize.py:414: size=59 B, count=1, average=59 B\n",
      "/home/kali-hunter/Documents/CompleteMachineLearning/Python/venv/lib/python3.12/site-packages/asttokens/line_numbers.py:34: size=56 B, count=2, average=28 B\n",
      "/home/kali-hunter/Documents/CompleteMachineLearning/Python/venv/lib/python3.12/site-packages/IPython/core/compilerop.py:172: size=56 B, count=2, average=28 B\n",
      "/home/kali-hunter/Documents/CompleteMachineLearning/Python/venv/lib/python3.12/site-packages/traitlets/traitlets.py:1534: size=56 B, count=1, average=56 B\n",
      "/home/kali-hunter/Documents/CompleteMachineLearning/Python/venv/lib/python3.12/site-packages/jupyter_client/session.py:1088: size=56 B, count=1, average=56 B\n",
      "/home/kali-hunter/Documents/CompleteMachineLearning/Python/venv/lib/python3.12/site-packages/IPython/core/tbtools.py:107: size=56 B, count=1, average=56 B\n",
      "/home/kali-hunter/Documents/CompleteMachineLearning/Python/venv/lib/python3.12/site-packages/IPython/core/tbtools.py:106: size=56 B, count=1, average=56 B\n",
      "/home/kali-hunter/Documents/CompleteMachineLearning/Python/venv/lib/python3.12/site-packages/IPython/core/tbtools.py:105: size=56 B, count=1, average=56 B\n",
      "/home/kali-hunter/Documents/CompleteMachineLearning/Python/venv/lib/python3.12/site-packages/IPython/core/tbtools.py:104: size=56 B, count=1, average=56 B\n",
      "/home/kali-hunter/Documents/CompleteMachineLearning/Python/venv/lib/python3.12/site-packages/IPython/core/tbtools.py:63: size=56 B, count=1, average=56 B\n",
      "/home/kali-hunter/Documents/CompleteMachineLearning/Python/venv/lib/python3.12/site-packages/IPython/core/payload.py:54: size=56 B, count=1, average=56 B\n",
      "/home/kali-hunter/Documents/CompleteMachineLearning/Python/venv/lib/python3.12/site-packages/IPython/core/interactiveshell.py:3605: size=56 B, count=1, average=56 B\n",
      "/home/kali-hunter/Documents/CompleteMachineLearning/Python/venv/lib/python3.12/site-packages/IPython/core/history.py:1058: size=56 B, count=1, average=56 B\n",
      "/home/kali-hunter/Documents/CompleteMachineLearning/Python/venv/lib/python3.12/site-packages/IPython/core/history.py:1047: size=56 B, count=1, average=56 B\n",
      "/home/kali-hunter/Documents/CompleteMachineLearning/Python/venv/lib/python3.12/selectors.py:466: size=56 B, count=1, average=56 B\n",
      "/home/kali-hunter/Documents/CompleteMachineLearning/Python/venv/lib/python3.12/asyncio/base_events.py:738: size=56 B, count=1, average=56 B\n",
      "/home/kali-hunter/Documents/CompleteMachineLearning/Python/venv/lib/python3.12/site-packages/ipykernel/ipkernel.py:476: size=51 B, count=1, average=51 B\n",
      "/home/kali-hunter/Documents/CompleteMachineLearning/Python/venv/lib/python3.12/textwrap.py:466: size=50 B, count=1, average=50 B\n",
      "/tmp/ipykernel_155150/374730184.py:18: size=48 B, count=1, average=48 B\n",
      "/home/kali-hunter/Documents/CompleteMachineLearning/Python/venv/lib/python3.12/site-packages/zmq/eventloop/zmqstream.py:550: size=48 B, count=1, average=48 B\n",
      "/home/kali-hunter/Documents/CompleteMachineLearning/Python/venv/lib/python3.12/site-packages/tornado/concurrent.py:196: size=48 B, count=1, average=48 B\n",
      "/home/kali-hunter/Documents/CompleteMachineLearning/Python/venv/lib/python3.12/site-packages/stack_data/core.py:455: size=48 B, count=1, average=48 B\n",
      "/home/kali-hunter/Documents/CompleteMachineLearning/Python/venv/lib/python3.12/site-packages/dateutil/parser/isoparser.py:146: size=48 B, count=1, average=48 B\n",
      "/home/kali-hunter/Documents/CompleteMachineLearning/Python/venv/lib/python3.12/site-packages/IPython/core/interactiveshell.py:3627: size=48 B, count=1, average=48 B\n",
      "/home/kali-hunter/Documents/CompleteMachineLearning/Python/venv/lib/python3.12/site-packages/IPython/core/interactiveshell.py:3045: size=48 B, count=1, average=48 B\n",
      "/home/kali-hunter/Documents/CompleteMachineLearning/Python/venv/lib/python3.12/site-packages/IPython/core/prefilter.py:317: size=47 B, count=1, average=47 B\n",
      "/home/kali-hunter/Documents/CompleteMachineLearning/Python/venv/lib/python3.12/site-packages/IPython/core/interactiveshell.py:3721: size=40 B, count=1, average=40 B\n",
      "/home/kali-hunter/Documents/CompleteMachineLearning/Python/venv/lib/python3.12/site-packages/IPython/core/interactiveshell.py:3413: size=40 B, count=1, average=40 B\n",
      "/home/kali-hunter/Documents/CompleteMachineLearning/Python/venv/lib/python3.12/asyncio/base_events.py:1935: size=40 B, count=1, average=40 B\n",
      "/home/kali-hunter/Documents/CompleteMachineLearning/Python/venv/lib/python3.12/selectors.py:468: size=36 B, count=1, average=36 B\n",
      "/home/kali-hunter/Documents/CompleteMachineLearning/Python/venv/lib/python3.12/site-packages/tornado/queues.py:318: size=32 B, count=1, average=32 B\n",
      "/home/kali-hunter/Documents/CompleteMachineLearning/Python/venv/lib/python3.12/site-packages/jupyter_client/session.py:603: size=32 B, count=1, average=32 B\n",
      "/home/kali-hunter/Documents/CompleteMachineLearning/Python/venv/lib/python3.12/site-packages/ipykernel/iostream.py:637: size=32 B, count=1, average=32 B\n",
      "/home/kali-hunter/Documents/CompleteMachineLearning/Python/venv/lib/python3.12/site-packages/IPython/core/compilerop.py:192: size=32 B, count=1, average=32 B\n",
      "/home/kali-hunter/Documents/CompleteMachineLearning/Python/venv/lib/python3.12/queue.py:151: size=32 B, count=1, average=32 B\n",
      "/home/kali-hunter/Documents/CompleteMachineLearning/Python/venv/lib/python3.12/linecache.py:93: size=32 B, count=1, average=32 B\n",
      "/home/kali-hunter/Documents/CompleteMachineLearning/Python/venv/lib/python3.12/asyncio/base_events.py:758: size=32 B, count=1, average=32 B\n",
      "/home/kali-hunter/Documents/CompleteMachineLearning/Python/venv/lib/python3.12/site-packages/ipykernel/kernelbase.py:534: size=28 B, count=1, average=28 B\n",
      "/home/kali-hunter/Documents/CompleteMachineLearning/Python/venv/lib/python3.12/site-packages/IPython/core/tbtools.py:34: size=28 B, count=1, average=28 B\n"
     ]
    }
   ],
   "source": [
    "main()"
   ]
  },
  {
   "cell_type": "code",
   "execution_count": null,
   "id": "13b27be2",
   "metadata": {},
   "outputs": [],
   "source": []
  }
 ],
 "metadata": {
  "kernelspec": {
   "display_name": "Python 3",
   "language": "python",
   "name": "python3"
  },
  "language_info": {
   "codemirror_mode": {
    "name": "ipython",
    "version": 3
   },
   "file_extension": ".py",
   "mimetype": "text/x-python",
   "name": "python",
   "nbconvert_exporter": "python",
   "pygments_lexer": "ipython3",
   "version": "3.12.0"
  }
 },
 "nbformat": 4,
 "nbformat_minor": 5
}
