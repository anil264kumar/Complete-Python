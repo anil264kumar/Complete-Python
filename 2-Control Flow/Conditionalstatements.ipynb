{
 "cells": [
  {
   "cell_type": "code",
   "execution_count": 2,
   "id": "03058c13",
   "metadata": {},
   "outputs": [
    {
     "name": "stdout",
     "output_type": "stream",
     "text": [
      "You are allowed to vote in the elections\n"
     ]
    }
   ],
   "source": [
    "## if statement\n",
    "age=18\n",
    "if age>=18:\n",
    "    print(\"You are allowed to vote in the elections\")\n"
   ]
  },
  {
   "cell_type": "code",
   "execution_count": 3,
   "id": "4c169373",
   "metadata": {},
   "outputs": [
    {
     "data": {
      "text/plain": [
       "True"
      ]
     },
     "execution_count": 3,
     "metadata": {},
     "output_type": "execute_result"
    }
   ],
   "source": [
    "age>=18"
   ]
  },
  {
   "cell_type": "code",
   "execution_count": 4,
   "id": "0afa1111",
   "metadata": {},
   "outputs": [
    {
     "name": "stdout",
     "output_type": "stream",
     "text": [
      "You are a minor\n"
     ]
    }
   ],
   "source": [
    "## else\n",
    "\n",
    "age=17\n",
    "\n",
    "if age>=18:\n",
    "    print(\"You are eligible for voting\")\n",
    "else:\n",
    "    print(\"You are a minor\")    \n",
    "\n"
   ]
  },
  {
   "cell_type": "code",
   "execution_count": 5,
   "id": "1eb43232",
   "metadata": {},
   "outputs": [
    {
     "name": "stdout",
     "output_type": "stream",
     "text": [
      "You are an adult\n"
     ]
    }
   ],
   "source": [
    "## elif\n",
    "## Allows you to check muliple conditions. It stands for \"else if\"\n",
    "\n",
    "age=20\n",
    "\n",
    "if age<13:\n",
    "    print(\"You are a chidl\")\n",
    "elif age<18:\n",
    "    print(\"You are a adolescent\")\n",
    "else: \n",
    "    print(\"You are an adult\")"
   ]
  },
  {
   "cell_type": "code",
   "execution_count": null,
   "id": "35f9b055",
   "metadata": {},
   "outputs": [],
   "source": []
  }
 ],
 "metadata": {
  "kernelspec": {
   "display_name": "Python 3",
   "language": "python",
   "name": "python3"
  },
  "language_info": {
   "codemirror_mode": {
    "name": "ipython",
    "version": 3
   },
   "file_extension": ".py",
   "mimetype": "text/x-python",
   "name": "python",
   "nbconvert_exporter": "python",
   "pygments_lexer": "ipython3",
   "version": "3.12.0"
  }
 },
 "nbformat": 4,
 "nbformat_minor": 5
}
