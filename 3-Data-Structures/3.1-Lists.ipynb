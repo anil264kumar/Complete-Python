{
 "cells": [
  {
   "cell_type": "markdown",
   "id": "9f7df1ab",
   "metadata": {},
   "source": [
    "### Introduction to Lists\n",
    "\n",
    "Lists are ordered , mutable collection of items.\n",
    "\n",
    "They can contain items of different data types.\n"
   ]
  },
  {
   "cell_type": "code",
   "execution_count": null,
   "id": "5ebdc5a4",
   "metadata": {},
   "outputs": [],
   "source": [
    "lst=[]\n",
    "print(type(lst))\n"
   ]
  },
  {
   "cell_type": "code",
   "execution_count": null,
   "id": "d560b254",
   "metadata": {},
   "outputs": [],
   "source": [
    "names=[\"krish\", \"Jack\", \"Jacob\",1,2,3,4,5]\n",
    "print(names)"
   ]
  },
  {
   "cell_type": "code",
   "execution_count": null,
   "id": "7503530e",
   "metadata": {},
   "outputs": [],
   "source": [
    "mixed_list=[1,\"Hello\",3.14, True]\n",
    "print(mixed_list)"
   ]
  },
  {
   "cell_type": "code",
   "execution_count": null,
   "id": "1b59eeba",
   "metadata": {},
   "outputs": [],
   "source": [
    "## Accessing the List Elements\n",
    "\n",
    "fruits=[\"apple\",\"banana\",\"cherry\",\"kiwi\",\"guava\"]\n",
    "\n",
    "print(fruits)"
   ]
  },
  {
   "cell_type": "code",
   "execution_count": null,
   "id": "1eb8c9ef",
   "metadata": {},
   "outputs": [],
   "source": [
    "print(fruits[0])\n",
    "print(fruits[4])\n",
    "print(fruits[-1])"
   ]
  },
  {
   "cell_type": "code",
   "execution_count": null,
   "id": "3286155d",
   "metadata": {},
   "outputs": [],
   "source": [
    "print(fruits[1:])\n",
    "print(fruits[1:3])\n",
    "print(fruits[-1])"
   ]
  },
  {
   "cell_type": "code",
   "execution_count": null,
   "id": "2080bc20",
   "metadata": {},
   "outputs": [],
   "source": [
    "## Modifying the List elements\n",
    "\n",
    "fruits[1]=\"watermelon\"\n",
    "\n",
    "print(fruits)"
   ]
  },
  {
   "cell_type": "code",
   "execution_count": null,
   "id": "d8623fbf",
   "metadata": {},
   "outputs": [],
   "source": [
    "fruits[1:]=\"watermelon\""
   ]
  },
  {
   "cell_type": "code",
   "execution_count": null,
   "id": "e9d9036b",
   "metadata": {},
   "outputs": [],
   "source": [
    "fruits"
   ]
  },
  {
   "cell_type": "code",
   "execution_count": null,
   "id": "0294d3e1",
   "metadata": {},
   "outputs": [],
   "source": [
    "## List Methods\n",
    "\n",
    "\n",
    "fruits=[\"apple\",\"banana\",\"cherry\",\"kiwi\",\"guava\"]"
   ]
  },
  {
   "cell_type": "code",
   "execution_count": null,
   "id": "b6a67d35",
   "metadata": {},
   "outputs": [],
   "source": [
    "fruits.append(\"watermelon\") ## Add an item to the end of list\n",
    "\n",
    "print(fruits)"
   ]
  },
  {
   "cell_type": "code",
   "execution_count": null,
   "id": "6f9a79e5",
   "metadata": {},
   "outputs": [],
   "source": [
    "fruits.insert(1,\"muskmelon\")\n",
    "print(fruits)"
   ]
  },
  {
   "cell_type": "code",
   "execution_count": null,
   "id": "02b5a143",
   "metadata": {},
   "outputs": [],
   "source": [
    "fruits.remove(\"banana\")\n",
    "print(fruits)"
   ]
  },
  {
   "cell_type": "code",
   "execution_count": null,
   "id": "bc69628e",
   "metadata": {},
   "outputs": [],
   "source": [
    "## Remove and return the last element\n",
    "popped_fruits=fruits.pop()\n",
    "print(popped_fruits)\n",
    "print(fruits)"
   ]
  },
  {
   "cell_type": "code",
   "execution_count": null,
   "id": "990e011b",
   "metadata": {},
   "outputs": [],
   "source": [
    "## Index \n",
    "index=fruits.index(\"cherry\")\n",
    "print(index)"
   ]
  },
  {
   "cell_type": "code",
   "execution_count": null,
   "id": "8e9b0575",
   "metadata": {},
   "outputs": [],
   "source": [
    "fruits.insert(2,\"banana\")\n",
    "print(fruits.count(\"banana\"))"
   ]
  },
  {
   "cell_type": "code",
   "execution_count": null,
   "id": "a66b9da3",
   "metadata": {},
   "outputs": [],
   "source": [
    "fruits.sort()  ## sort elements in ascending order\n",
    "\n",
    "fruits"
   ]
  },
  {
   "cell_type": "code",
   "execution_count": null,
   "id": "bf112c18",
   "metadata": {},
   "outputs": [],
   "source": [
    "fruits.reverse()  ## reverse the list\n",
    "fruits"
   ]
  },
  {
   "cell_type": "code",
   "execution_count": null,
   "id": "94dbf737",
   "metadata": {},
   "outputs": [],
   "source": [
    "fruits.clear()\n",
    "fruits"
   ]
  },
  {
   "cell_type": "code",
   "execution_count": 62,
   "id": "ce30f361",
   "metadata": {},
   "outputs": [
    {
     "name": "stdout",
     "output_type": "stream",
     "text": [
      "[3, 4, 5]\n",
      "[1, 2, 3, 4, 5]\n",
      "[6, 7, 8, 9, 10]\n",
      "[1, 3, 5, 7, 9]\n",
      "[10, 9, 8, 7, 6, 5, 4, 3, 2, 1]\n"
     ]
    }
   ],
   "source": [
    "## Slicing List\n",
    "numbers = [1,2,3,4,5,6,7,8,9,10]\n",
    "print(numbers[2:5])\n",
    "print(numbers[:5])\n",
    "print(numbers[5:])\n",
    "print(numbers[::2])\n",
    "print(numbers[::-1])"
   ]
  },
  {
   "cell_type": "code",
   "execution_count": 63,
   "id": "5b7dabe4",
   "metadata": {},
   "outputs": [
    {
     "data": {
      "text/plain": [
       "[1, 3, 5, 7, 9]"
      ]
     },
     "execution_count": 63,
     "metadata": {},
     "output_type": "execute_result"
    }
   ],
   "source": [
    "numbers[::2]"
   ]
  },
  {
   "cell_type": "code",
   "execution_count": 64,
   "id": "efb2d3e4",
   "metadata": {},
   "outputs": [
    {
     "data": {
      "text/plain": [
       "[10, 8, 6, 4, 2]"
      ]
     },
     "execution_count": 64,
     "metadata": {},
     "output_type": "execute_result"
    }
   ],
   "source": [
    "numbers[::-2]"
   ]
  },
  {
   "cell_type": "code",
   "execution_count": null,
   "id": "a00a028e",
   "metadata": {},
   "outputs": [],
   "source": [
    "## Iteration over List\n",
    "\n",
    "for number in numbers:\n",
    "    print(number)"
   ]
  },
  {
   "cell_type": "code",
   "execution_count": null,
   "id": "37cf4e24",
   "metadata": {},
   "outputs": [],
   "source": [
    "## Iterating with index\n",
    "\n",
    "for index,number in enumerate(numbers):\n",
    "    print(index,number)\n",
    "    \n"
   ]
  },
  {
   "cell_type": "code",
   "execution_count": null,
   "id": "c1aeb1c5",
   "metadata": {},
   "outputs": [],
   "source": [
    "## List comprehension\n",
    "\n",
    "lst=[]\n",
    "\n",
    "for  x in range(10):\n",
    "    lst.append(x**2)\n",
    "print(lst)"
   ]
  },
  {
   "cell_type": "code",
   "execution_count": null,
   "id": "2e421ca6",
   "metadata": {},
   "outputs": [],
   "source": [
    "[x**2 for x in range(10)]"
   ]
  },
  {
   "cell_type": "markdown",
   "id": "49240474",
   "metadata": {},
   "source": [
    "## List Comprehension\n",
    "\n",
    "Basic Syntax            [expression for item in iterable]\n",
    "\n",
    "With conditional logic  [expression for item in iterable if condition]\n",
    "\n",
    "Nested List Comprehensionn [exrpession for item1 in iterable1 for item2 in iterable2]\n"
   ]
  },
  {
   "cell_type": "code",
   "execution_count": null,
   "id": "bb920753",
   "metadata": {},
   "outputs": [],
   "source": [
    "### Basic List Comprehension\n",
    "\n",
    "square = [num** 2 for num in range(10)]\n",
    "print(square)"
   ]
  },
  {
   "cell_type": "code",
   "execution_count": null,
   "id": "78f31963",
   "metadata": {},
   "outputs": [],
   "source": [
    "## List comprehension with condition\n",
    "lst=[]\n",
    "for i in range(10):\n",
    "    if i%2==0:\n",
    "        lst.append(i)\n",
    "\n",
    "print(lst)\n",
    "\n"
   ]
  },
  {
   "cell_type": "code",
   "execution_count": null,
   "id": "ba8a538f",
   "metadata": {},
   "outputs": [],
   "source": [
    "even_numbers=[num for num in range(10) if num%2==0]\n",
    "print(even_numbers)"
   ]
  },
  {
   "cell_type": "code",
   "execution_count": null,
   "id": "8d3f4e49",
   "metadata": {},
   "outputs": [],
   "source": [
    "## Nested List Comprehension\n",
    "lst1=[1,2,3,4]\n",
    "lst2=['a','b','c','d']\n",
    "\n",
    "pair=[ [i,j] for i in lst1 for j in lst2]\n",
    "\n",
    "print(pair)\n",
    "\n",
    "\n",
    "\n"
   ]
  },
  {
   "cell_type": "code",
   "execution_count": null,
   "id": "f542cf1b",
   "metadata": {},
   "outputs": [],
   "source": [
    "## List comprehension with function calls\n",
    "words = [\"hello\",\"wordl\",\"python\",\"list\",\"comprehension\"]\n",
    "lengths = [len(word) for word in words]\n",
    "print(lengths) ## Output [5 ,5, 6, 4 ,13]"
   ]
  },
  {
   "cell_type": "markdown",
   "id": "2342b667",
   "metadata": {},
   "source": [
    "### Conclusion\n",
    "\n",
    "List comprehension are a powerful and concise way to create lists in Python. They are syntactically compact and can replace more verbose looping constructs. Understanding the syntax of list comprehensions will help you write cleaner and more efficient Python code."
   ]
  },
  {
   "cell_type": "markdown",
   "id": "856c6237",
   "metadata": {},
   "source": []
  }
 ],
 "metadata": {
  "kernelspec": {
   "display_name": "Python 3",
   "language": "python",
   "name": "python3"
  },
  "language_info": {
   "codemirror_mode": {
    "name": "ipython",
    "version": 3
   },
   "file_extension": ".py",
   "mimetype": "text/x-python",
   "name": "python",
   "nbconvert_exporter": "python",
   "pygments_lexer": "ipython3",
   "version": "3.12.0"
  }
 },
 "nbformat": 4,
 "nbformat_minor": 5
}
