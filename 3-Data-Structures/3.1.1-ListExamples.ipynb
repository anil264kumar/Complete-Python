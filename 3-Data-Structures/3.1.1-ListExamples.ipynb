{
 "cells": [
  {
   "cell_type": "markdown",
   "id": "02a74298",
   "metadata": {},
   "source": [
    "### Real - World Examples Using Lists in Python\n",
    "\n",
    "#### Example 1. Manage A To Do \n",
    "\n",
    "Create a To Do List To keep Track of Tasks"
   ]
  },
  {
   "cell_type": "markdown",
   "id": "93b6aec0",
   "metadata": {},
   "source": []
  },
  {
   "cell_type": "code",
   "execution_count": null,
   "id": "c50e6816",
   "metadata": {},
   "outputs": [
    {
     "name": "stdout",
     "output_type": "stream",
     "text": [
      "Don't forgot to pay the utility bills\n",
      "To Do List remaining\n",
      "Buy Groceries\n",
      "Pay Bills\n",
      "Clean the house\n"
     ]
    }
   ],
   "source": [
    "## Create a to do list\n",
    "to_do_list=[\"Buy Groceries\",\"Go to Gym\",\"Pay Bills\"]\n",
    "\n",
    "# adding to the task .append\n",
    "to_do_list.append(\"Clean the house\")\n",
    "\n",
    "# removing a completed task .remove\n",
    "to_do_list.remove(\"Go to Gym\")\n",
    "\n",
    "# checking if a task is in the list\n",
    "if \"Pay Bills\" in to_do_list:\n",
    "    print(\"Don't forgot to pay the utility bills\")\n",
    "\n",
    "print(\"To Do List remaining\")\n",
    "for task in to_do_list:\n",
    "    print(f\"{task}\")"
   ]
  },
  {
   "cell_type": "markdown",
   "id": "8b87f8d1",
   "metadata": {},
   "source": [
    "#### Example 2: Organizing Student Grades\n",
    "\n",
    "Create a list to store and calculate average grades for students"
   ]
  },
  {
   "cell_type": "code",
   "execution_count": 4,
   "id": "06163e66",
   "metadata": {},
   "outputs": [
    {
     "name": "stdout",
     "output_type": "stream",
     "text": [
      "Average Grade: 88.17\n",
      "Highest Grade: 96\n",
      "Lowest Grade: 77\n"
     ]
    }
   ],
   "source": [
    "## Orgainzing student Grages\n",
    "grades = [85,93,77,90,88]\n",
    "\n",
    "## Adding a new grade\n",
    "grades.append(96)\n",
    "\n",
    "## Calculating the avg grade\n",
    "average_grade = sum(grades)/len(grades)\n",
    "print(f\"Average Grade: {average_grade:.2f}\")\n",
    "\n",
    "## Finding the highest and lowest grade \n",
    "highest_grade=max(grades)\n",
    "lowest_grade=min(grades)\n",
    "print(f\"Highest Grade: {highest_grade}\")\n",
    "print(f\"Lowest Grade: {lowest_grade}\")"
   ]
  },
  {
   "cell_type": "markdown",
   "id": "6dfab098",
   "metadata": {},
   "source": [
    "#### Example 3: Mananging An Inventory\n",
    "\n",
    "Use a list to manage inventory items in a store"
   ]
  },
  {
   "cell_type": "code",
   "execution_count": null,
   "id": "9c2e855c",
   "metadata": {},
   "outputs": [
    {
     "name": "stdout",
     "output_type": "stream",
     "text": [
      "apple is in Stock\n",
      "banana is in Stock\n",
      "Strawberry is in Stock\n",
      "Inventory List:\n",
      "- apple\n",
      "- banana\n",
      "- Strawberry\n"
     ]
    }
   ],
   "source": [
    "## Managing a inventory\n",
    "inventory=[\"apples\",\"bananas\",\"papayas\"]\n",
    "\n",
    "## Adding the item is in stock\n",
    "inventory.append(\"Strawberry\")\n",
    "\n",
    "## Removing the item is in stock\n",
    "inventory.remove(\"papayas\")\n",
    "\n",
    "## checking if item is stock\n",
    "item=\"Strawberry\"\n",
    "\n",
    "for item in inventory:\n",
    "    if item in inventory:\n",
    "        print(f\"{item} is in Stock\")\n",
    "    else:\n",
    "        print(f\"{item} is out of Stock\")\n",
    "\n",
    "## Printing the inventory\n",
    "print(\"Inventory List:\")\n",
    "for item in inventory:\n",
    "    print(f\"- {item}\")"
   ]
  },
  {
   "cell_type": "markdown",
   "id": "0cc4bae0",
   "metadata": {},
   "source": [
    "#### Example 4: Collecting User Feedback\n",
    "\n",
    "Use a list to collect and analyze user feedback"
   ]
  },
  {
   "cell_type": "code",
   "execution_count": 7,
   "id": "f9ec3bcd",
   "metadata": {},
   "outputs": [
    {
     "name": "stdout",
     "output_type": "stream",
     "text": [
      "Positive feedback count: 2\n",
      "User Feedback:\n",
      "- Great service\n",
      "- Very Satisfied\n",
      "- Excellent experience\n",
      "- Could be better\n",
      "- Not happy with the service\n"
     ]
    }
   ],
   "source": [
    "## Collecting the user feedback\n",
    "feedback=[\"Great service\",\"Very Satisfied\",\"Excellent experience\",\"Could be better\"]\n",
    "\n",
    "## Adding new feedback\n",
    "feedback.append(\"Not happy with the service\")\n",
    "\n",
    "## counting specific feedback\n",
    "positive_feedback_count=sum(1 for comment in feedback if \"great\" in comment.lower() or \"excellent\" in comment.lower())\n",
    "print(f\"Positive feedback count: {positive_feedback_count}\")\n",
    "\n",
    "## Printing all feedback\n",
    "print(\"User Feedback:\")\n",
    "for comment in feedback:\n",
    "    print(f\"- {comment}\")"
   ]
  },
  {
   "cell_type": "code",
   "execution_count": null,
   "id": "04a5ae59",
   "metadata": {},
   "outputs": [],
   "source": []
  }
 ],
 "metadata": {
  "kernelspec": {
   "display_name": "Python 3",
   "language": "python",
   "name": "python3"
  },
  "language_info": {
   "codemirror_mode": {
    "name": "ipython",
    "version": 3
   },
   "file_extension": ".py",
   "mimetype": "text/x-python",
   "name": "python",
   "nbconvert_exporter": "python",
   "pygments_lexer": "ipython3",
   "version": "3.12.0"
  }
 },
 "nbformat": 4,
 "nbformat_minor": 5
}
