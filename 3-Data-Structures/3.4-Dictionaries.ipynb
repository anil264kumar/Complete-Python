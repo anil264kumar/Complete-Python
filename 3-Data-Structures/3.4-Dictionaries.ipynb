{
 "cells": [
  {
   "cell_type": "markdown",
   "id": "61f76c13",
   "metadata": {},
   "source": [
    "### Introduction to Dictionaries\n",
    "\n",
    "Dictionaries are unordered collection of items. They store data in key-value pairs. Keys must be unique and immutable (e.g., strings, numbers, or tuples) , while values can be of any type."
   ]
  },
  {
   "cell_type": "code",
   "execution_count": 39,
   "id": "1213d3fc",
   "metadata": {},
   "outputs": [
    {
     "name": "stdout",
     "output_type": "stream",
     "text": [
      "<class 'dict'>\n"
     ]
    }
   ],
   "source": [
    "### Creating Dictionaries\n",
    "empty_dict={}\n",
    "print(type(empty_dict))"
   ]
  },
  {
   "cell_type": "code",
   "execution_count": 40,
   "id": "8303900e",
   "metadata": {},
   "outputs": [
    {
     "name": "stdout",
     "output_type": "stream",
     "text": [
      "{}\n"
     ]
    }
   ],
   "source": [
    "empty_dict=dict()\n",
    "print(empty_dict)"
   ]
  },
  {
   "cell_type": "code",
   "execution_count": 41,
   "id": "40a8fc19",
   "metadata": {},
   "outputs": [
    {
     "name": "stdout",
     "output_type": "stream",
     "text": [
      "{'name': 'krish', 'email': 'krish@gmail.com', 'age': 32, 'grade': 25}\n",
      "<class 'dict'>\n"
     ]
    }
   ],
   "source": [
    "student={\n",
    "    \"name\" : \"krish\",\n",
    "    \"email\" : \"krish@gmail.com\",\n",
    "    \"age\" : 32,\n",
    "    \"grade\": 25\n",
    "}\n",
    "print(student)\n",
    "print(type(student))"
   ]
  },
  {
   "cell_type": "code",
   "execution_count": 42,
   "id": "b614dc4a",
   "metadata": {},
   "outputs": [
    {
     "name": "stdout",
     "output_type": "stream",
     "text": [
      "{'name': 'krish', 'email': 'krish@gmail.com', 'age': 32, 'grade': 25}\n"
     ]
    }
   ],
   "source": [
    "## Single key is always used\n",
    "student={\n",
    "    \"name\" : \"krish\",\n",
    "    \"email\" : \"krish@gmail.com\",\n",
    "    \"age\" : 32,\n",
    "    \"grade\": 25\n",
    "}\n",
    "\n",
    "print(student)\n"
   ]
  },
  {
   "cell_type": "code",
   "execution_count": 43,
   "id": "3a80610b",
   "metadata": {},
   "outputs": [
    {
     "name": "stdout",
     "output_type": "stream",
     "text": [
      "{'name': 'krish', 'age': 32, 'grade': 'A'}\n"
     ]
    }
   ],
   "source": [
    "## accessing dictionary elements\n",
    "\n",
    "student={\n",
    "    \"name\" : \"krish\",\n",
    "    \"age\" : 32,\n",
    "    \"grade\": \"A\"\n",
    "}\n",
    "print(student)"
   ]
  },
  {
   "cell_type": "code",
   "execution_count": 44,
   "id": "c1bf82fd",
   "metadata": {},
   "outputs": [
    {
     "name": "stdout",
     "output_type": "stream",
     "text": [
      "A\n",
      "32\n",
      "A\n",
      "None\n",
      "Not Available\n"
     ]
    }
   ],
   "source": [
    "## Accessing the  Dictionary elements\n",
    "print(student['grade'])\n",
    "print(student['age'])\n",
    "\n",
    "\n",
    "## Accessing using get() method\n",
    "print(student.get('grade'))\n",
    "print(student.get('Last_name'))\n",
    "print(student.get('last_name',\"Not Available\"))"
   ]
  },
  {
   "cell_type": "code",
   "execution_count": 45,
   "id": "102fc0da",
   "metadata": {},
   "outputs": [
    {
     "name": "stdout",
     "output_type": "stream",
     "text": [
      "{'name': 'krish', 'age': 32, 'grade': 'A'}\n"
     ]
    }
   ],
   "source": [
    "### Modifying Dictionary Elements\n",
    "##  Dictionary are mutable , so you can add, update or delete elements\n",
    "print(student)"
   ]
  },
  {
   "cell_type": "code",
   "execution_count": 46,
   "id": "a64d25f4",
   "metadata": {},
   "outputs": [
    {
     "name": "stdout",
     "output_type": "stream",
     "text": [
      "{'name': 'krish', 'age': 21, 'grade': 'A'}\n",
      "{'name': 'krish', 'age': 21, 'grade': 'A', 'address': 'India'}\n"
     ]
    }
   ],
   "source": [
    "## Updating key's value\n",
    "student[\"age\"]=21\n",
    "print(student)\n",
    "\n",
    "## Adding new key and value\n",
    "student[\"address\"]=\"India\"\n",
    "print(student)"
   ]
  },
  {
   "cell_type": "code",
   "execution_count": 47,
   "id": "a625f820",
   "metadata": {},
   "outputs": [
    {
     "name": "stdout",
     "output_type": "stream",
     "text": [
      "{'name': 'krish', 'age': 21, 'address': 'India'}\n"
     ]
    }
   ],
   "source": [
    "## Deleting key and value pair\n",
    "del student['grade']\n",
    "print(student)"
   ]
  },
  {
   "cell_type": "code",
   "execution_count": 48,
   "id": "e6a20446",
   "metadata": {},
   "outputs": [
    {
     "name": "stdout",
     "output_type": "stream",
     "text": [
      "dict_keys(['name', 'age', 'address'])\n",
      "dict_values(['krish', 21, 'India'])\n",
      "dict_items([('name', 'krish'), ('age', 21), ('address', 'India')])\n"
     ]
    }
   ],
   "source": [
    "## Dictionary methods\n",
    "\n",
    "keys=student.keys() ## get all the keys \n",
    "print(keys)\n",
    "values=student.values() ## get all the values\n",
    "print(values)\n",
    "\n",
    "\n",
    "items=student.items() ## get all the key value pairs\n",
    "print(items)\n",
    "\n",
    "\n"
   ]
  },
  {
   "cell_type": "code",
   "execution_count": 49,
   "id": "c2f871d5",
   "metadata": {},
   "outputs": [
    {
     "name": "stdout",
     "output_type": "stream",
     "text": [
      "{'name': 'krish', 'age': 21, 'address': 'India'}\n",
      "{'name': 'krish', 'age': 21, 'address': 'India'}\n"
     ]
    }
   ],
   "source": [
    "## shallow copy\n",
    "student_copy = student\n",
    "print(student)\n",
    "print(student_copy)"
   ]
  },
  {
   "cell_type": "code",
   "execution_count": 50,
   "id": "662b0a6f",
   "metadata": {},
   "outputs": [
    {
     "name": "stdout",
     "output_type": "stream",
     "text": [
      "{'name': 'Krish2', 'age': 21, 'address': 'India'}\n",
      "{'name': 'Krish2', 'age': 21, 'address': 'India'}\n"
     ]
    }
   ],
   "source": [
    "student['name']=\"Krish2\"\n",
    "print(student)\n",
    "print(student_copy)"
   ]
  },
  {
   "cell_type": "code",
   "execution_count": 51,
   "id": "d6cca070",
   "metadata": {},
   "outputs": [
    {
     "name": "stdout",
     "output_type": "stream",
     "text": [
      "{'name': 'Krish2', 'age': 21, 'address': 'India'}\n",
      "{'name': 'Krish2', 'age': 21, 'address': 'India'}\n"
     ]
    }
   ],
   "source": [
    "student_copy1=student.copy()  ## shalow copy\n",
    "print(student_copy1)\n",
    "print(student)"
   ]
  },
  {
   "cell_type": "code",
   "execution_count": 52,
   "id": "28076380",
   "metadata": {},
   "outputs": [
    {
     "name": "stdout",
     "output_type": "stream",
     "text": [
      "{'name': 'Krish2', 'age': 21, 'address': 'India'}\n",
      "{'name': 'Anil', 'age': 21, 'address': 'India'}\n"
     ]
    }
   ],
   "source": [
    "student['name']=\"Anil\"\n",
    "print(student_copy1)\n",
    "print(student)"
   ]
  },
  {
   "cell_type": "code",
   "execution_count": 53,
   "id": "8a6b5480",
   "metadata": {},
   "outputs": [
    {
     "name": "stdout",
     "output_type": "stream",
     "text": [
      "name\n",
      "age\n",
      "address\n"
     ]
    }
   ],
   "source": [
    "## Iterating over Dictionaries\n",
    "## You can use loop to iterate over dictionaries, keys , values, or items\n",
    "\n",
    "## Iterating over keys\n",
    "for key in student.keys():\n",
    "    print(key)\n"
   ]
  },
  {
   "cell_type": "code",
   "execution_count": 54,
   "id": "485ac7ee",
   "metadata": {},
   "outputs": [
    {
     "name": "stdout",
     "output_type": "stream",
     "text": [
      "Anil\n",
      "21\n",
      "India\n"
     ]
    }
   ],
   "source": [
    "## Iterate over values\n",
    "for value in student.values():\n",
    "    print(value)"
   ]
  },
  {
   "cell_type": "code",
   "execution_count": 55,
   "id": "5e8a9f6c",
   "metadata": {},
   "outputs": [
    {
     "name": "stdout",
     "output_type": "stream",
     "text": [
      "name : Anil\n",
      "age : 21\n",
      "address : India\n"
     ]
    }
   ],
   "source": [
    "## Iterate over key value pairs\n",
    "for key,value in student.items():\n",
    "    print(f\"{key} : {value}\")"
   ]
  },
  {
   "cell_type": "code",
   "execution_count": 56,
   "id": "238191c9",
   "metadata": {},
   "outputs": [
    {
     "name": "stdout",
     "output_type": "stream",
     "text": [
      "{'student1': {'name': 'Krish', 'age': 22}, 'student2': {'name': 'Peter', 'age': 25}}\n"
     ]
    }
   ],
   "source": [
    "## Nested Dictionaries\n",
    "\n",
    "students={\n",
    "    \"student1\" : {\"name\" : \"Krish\", \"age\": 22},\n",
    "    \"student2\" : {\"name\" : \"Peter\", \"age\": 25},\n",
    "    \n",
    "    \n",
    "}\n",
    "\n",
    "print(students)"
   ]
  },
  {
   "cell_type": "code",
   "execution_count": 57,
   "id": "31731950",
   "metadata": {},
   "outputs": [
    {
     "name": "stdout",
     "output_type": "stream",
     "text": [
      "Peter\n",
      "22\n"
     ]
    }
   ],
   "source": [
    "## Accessing nested dictionaries elements\n",
    "\n",
    "print(students['student2']['name'])\n",
    "print(students['student1']['age'])"
   ]
  },
  {
   "cell_type": "code",
   "execution_count": 58,
   "id": "34b6f64b",
   "metadata": {},
   "outputs": [
    {
     "data": {
      "text/plain": [
       "dict_items([('student1', {'name': 'Krish', 'age': 22}), ('student2', {'name': 'Peter', 'age': 25})])"
      ]
     },
     "execution_count": 58,
     "metadata": {},
     "output_type": "execute_result"
    }
   ],
   "source": [
    "students.items()"
   ]
  },
  {
   "cell_type": "code",
   "execution_count": 62,
   "id": "ad319882",
   "metadata": {},
   "outputs": [
    {
     "name": "stdout",
     "output_type": "stream",
     "text": [
      "student1:{'name': 'Krish', 'age': 22}\n",
      "name:Krish\n",
      "age:22\n",
      "student2:{'name': 'Peter', 'age': 25}\n",
      "name:Peter\n",
      "age:25\n"
     ]
    }
   ],
   "source": [
    "## Iterating over nested Dictionaries\n",
    "for student_id, student_info in students.items():\n",
    "    print(f\"{student_id}:{student_info}\")\n",
    "    for key, value in student_info.items():\n",
    "        print(f\"{key}:{value}\")"
   ]
  },
  {
   "cell_type": "code",
   "execution_count": 68,
   "id": "6b8f9fd6",
   "metadata": {},
   "outputs": [
    {
     "name": "stdout",
     "output_type": "stream",
     "text": [
      "{0: 0, 1: 1, 2: 4, 3: 9, 4: 16}\n"
     ]
    }
   ],
   "source": [
    "## Dictionary Comprehension\n",
    "squares={x:x**2 for x in range(5)}\n",
    "print(squares)\n",
    "\n"
   ]
  },
  {
   "cell_type": "code",
   "execution_count": 74,
   "id": "2930e3f6",
   "metadata": {},
   "outputs": [
    {
     "name": "stdout",
     "output_type": "stream",
     "text": [
      "{0: 0, 2: 4, 4: 16, 6: 36, 8: 64}\n"
     ]
    }
   ],
   "source": [
    "## conditional dictionary comprehension\n",
    "evens={x:x**2 for x in range(10) if x%2==0}\n",
    "print(evens)"
   ]
  },
  {
   "cell_type": "code",
   "execution_count": 75,
   "id": "778f0542",
   "metadata": {},
   "outputs": [
    {
     "name": "stdout",
     "output_type": "stream",
     "text": [
      "{1: 1, 2: 2, 3: 1, 4: 1, 5: 3, 6: 2}\n"
     ]
    }
   ],
   "source": [
    "## Practical Examples\n",
    "\n",
    "## Use a dictionary to count the frequency of elements in list\n",
    "\n",
    "numbers=[1,2,2,3,4,5,5,5,6,6]\n",
    "frequency={}\n",
    "\n",
    "for num in numbers:\n",
    "    if num in frequency:\n",
    "        frequency[num]+=1\n",
    "    else:\n",
    "        frequency[num]=1\n",
    "\n",
    "print(frequency)        "
   ]
  },
  {
   "cell_type": "code",
   "execution_count": 76,
   "id": "74d206cc",
   "metadata": {},
   "outputs": [
    {
     "name": "stdout",
     "output_type": "stream",
     "text": [
      "{'a': 1, 'b': 3, 'c': 4}\n"
     ]
    }
   ],
   "source": [
    "## Merge 2 dictionaries into one\n",
    "\n",
    "dict1={\"a\":1 , \"b\":1}\n",
    "dict2={\"b\":3,\"c\":4}\n",
    "merged_dict={**dict1,**dict2}\n",
    "\n",
    "print(merged_dict)"
   ]
  },
  {
   "cell_type": "code",
   "execution_count": null,
   "id": "57431df1",
   "metadata": {},
   "outputs": [],
   "source": []
  }
 ],
 "metadata": {
  "kernelspec": {
   "display_name": "Python 3",
   "language": "python",
   "name": "python3"
  },
  "language_info": {
   "codemirror_mode": {
    "name": "ipython",
    "version": 3
   },
   "file_extension": ".py",
   "mimetype": "text/x-python",
   "name": "python",
   "nbconvert_exporter": "python",
   "pygments_lexer": "ipython3",
   "version": "3.12.0"
  }
 },
 "nbformat": 4,
 "nbformat_minor": 5
}
