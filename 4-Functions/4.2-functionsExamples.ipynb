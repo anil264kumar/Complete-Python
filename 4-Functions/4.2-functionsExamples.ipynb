{
 "cells": [
  {
   "cell_type": "markdown",
   "id": "36099c6c",
   "metadata": {},
   "source": [
    "### Example 1: Temperature Conversion\n"
   ]
  },
  {
   "cell_type": "code",
   "execution_count": 2,
   "id": "8fa7a131",
   "metadata": {},
   "outputs": [
    {
     "name": "stdout",
     "output_type": "stream",
     "text": [
      "87.8\n",
      "25.0\n"
     ]
    }
   ],
   "source": [
    "def convert_temperature(temp,unit):\n",
    "    \"\"\"This function converts temperature between Celsius and Fahrenheit\"\"\"\n",
    "    if unit==\"C\":\n",
    "        return temp * 9/5 +32 ## Celsius to Fahrenheit\n",
    "    elif unit==\"F\":\n",
    "        return (temp-32)*5/9 ## Fahrenheit to Celsius\n",
    "    else:\n",
    "        return None\n",
    "\n",
    "print(convert_temperature(31,\"C\"))\n",
    "print(convert_temperature(77,\"F\"))\n"
   ]
  },
  {
   "cell_type": "markdown",
   "id": "47afef38",
   "metadata": {},
   "source": [
    "### Example 2: Password Strength Checker\n"
   ]
  },
  {
   "cell_type": "code",
   "execution_count": 1,
   "id": "cf713caf",
   "metadata": {},
   "outputs": [
    {
     "name": "stdout",
     "output_type": "stream",
     "text": [
      "False\n",
      "True\n"
     ]
    }
   ],
   "source": [
    "def is_strong_password(password):\n",
    "    \"\"\"This functionn checks if the password is strong or not\"\"\"\n",
    "    if len(password)<8:\n",
    "        return False\n",
    "    elif not any(char.isdigit() for char in password):\n",
    "        return False\n",
    "    elif not any(char.islower() for char in password):\n",
    "        return False\n",
    "    elif not any(char.isupper() for char in password):\n",
    "        return False\n",
    "    elif not any(char in '!@#$%^&*()_+' for char in password):\n",
    "        return False\n",
    "    return True\n",
    "\n",
    "## Calling the function\n",
    "print(is_strong_password(\"WeakPwd\"))\n",
    "print(is_strong_password(\"StR12!@sed\"))\n",
    "    "
   ]
  },
  {
   "cell_type": "markdown",
   "id": "4f0ec8aa",
   "metadata": {},
   "source": [
    "### Example 3: Calculate the Total Cost of Items in a Shopping Cart"
   ]
  },
  {
   "cell_type": "code",
   "execution_count": 5,
   "id": "cfbc8fdb",
   "metadata": {},
   "outputs": [
    {
     "name": "stdout",
     "output_type": "stream",
     "text": [
      "7.799999999999999\n"
     ]
    }
   ],
   "source": [
    "def calculate_total_cost(cart):\n",
    "    \"\"\"This function finds the total cost.\"\"\"\n",
    "    total_cost=0\n",
    "    for item in cart:\n",
    "        total_cost+=item['price'] * item['quantity']\n",
    "    return total_cost\n",
    "\n",
    "\n",
    "\n",
    "cart=[\n",
    "    {'name':'Apple','price':0.5,'quantity':4},\n",
    "    {'name':'Banana','price':0.7,'quantity':6},\n",
    "    {'name':'Watermelon','price':0.8,'quantity':2},\n",
    "]\n",
    "\n",
    "\n",
    "## calling function\n",
    "total_cost=calculate_total_cost(cart)\n",
    "print(total_cost)"
   ]
  },
  {
   "cell_type": "markdown",
   "id": "1049be89",
   "metadata": {},
   "source": [
    "### Example 4: Check if a String is Palindrome\n"
   ]
  },
  {
   "cell_type": "code",
   "execution_count": 13,
   "id": "9f500089",
   "metadata": {},
   "outputs": [
    {
     "name": "stdout",
     "output_type": "stream",
     "text": [
      "True\n",
      "False\n"
     ]
    }
   ],
   "source": [
    "def is_palindrome(s):\n",
    "    s=s.lower().replace(\" \",\"\")\n",
    "    return s==s[::-1]\n",
    "\n",
    "print(is_palindrome(\"A man a Plan  a canal Panama\"))\n",
    "print(is_palindrome(\"Hello\"))"
   ]
  },
  {
   "cell_type": "markdown",
   "id": "fabff59f",
   "metadata": {},
   "source": [
    "### Example 5: Calculate the factorials of a number using recursion"
   ]
  },
  {
   "cell_type": "code",
   "execution_count": 17,
   "id": "20c7e0d0",
   "metadata": {},
   "outputs": [
    {
     "name": "stdout",
     "output_type": "stream",
     "text": [
      "1\n"
     ]
    }
   ],
   "source": [
    "def factorial(num):\n",
    "    if num==0:\n",
    "        return 1\n",
    "    else:\n",
    "        return num * factorial(num-1)\n",
    "    \n",
    "print(factorial(0))\n"
   ]
  },
  {
   "cell_type": "markdown",
   "id": "8b2883a9",
   "metadata": {},
   "source": [
    "### Example 6: A Function To Read A File and count the frequency of each word"
   ]
  },
  {
   "cell_type": "code",
   "execution_count": 21,
   "id": "14f5be5c",
   "metadata": {},
   "outputs": [
    {
     "name": "stdout",
     "output_type": "stream",
     "text": [
      "{'hello': 1, 'world': 1, 'how': 1, 'are': 1, 'you': 1, 'my': 1, 'name': 1, 'is': 2, 'bohemia': 1}\n"
     ]
    }
   ],
   "source": [
    "def count_word_frequency(file_path):\n",
    "    word_count={}\n",
    "    with open(file_path,'r') as file:\n",
    "        for line in file:\n",
    "            words=line.split()\n",
    "            for word in words:\n",
    "                word=word.lower().strip(',.!?;:\"\\'')\n",
    "                word_count[word]=word_count.get(word,0)+1\n",
    "\n",
    "    return word_count      \n",
    "\n",
    "\n",
    "file_path=\"sample.txt\"\n",
    "\n",
    "print(count_word_frequency(file_path))\n"
   ]
  },
  {
   "cell_type": "code",
   "execution_count": 22,
   "id": "5c93bfa3",
   "metadata": {},
   "outputs": [
    {
     "name": "stdout",
     "output_type": "stream",
     "text": [
      "True\n",
      "False\n"
     ]
    }
   ],
   "source": [
    "### Example 7: Validate Email Address\n",
    "import re\n",
    "\n",
    "def is_valid_email(email):\n",
    "    \"\"\"This function checks if the email is valid or not.\"\"\"\n",
    "    pattern=r'^[a-zA-Z0-9_.+-]+@[a-zA-Z0-9-]+\\.[a-zA-Z0-9-.]+$'\n",
    "    return re.match(pattern,email) is not None\n",
    "\n",
    "\n",
    "print(is_valid_email(\"text@example.com\"))\n",
    "print(is_valid_email(\"invalid-email\"))"
   ]
  },
  {
   "cell_type": "code",
   "execution_count": null,
   "id": "dbc9c379",
   "metadata": {},
   "outputs": [],
   "source": []
  }
 ],
 "metadata": {
  "kernelspec": {
   "display_name": "Python 3",
   "language": "python",
   "name": "python3"
  },
  "language_info": {
   "codemirror_mode": {
    "name": "ipython",
    "version": 3
   },
   "file_extension": ".py",
   "mimetype": "text/x-python",
   "name": "python",
   "nbconvert_exporter": "python",
   "pygments_lexer": "ipython3",
   "version": "3.12.0"
  }
 },
 "nbformat": 4,
 "nbformat_minor": 5
}
