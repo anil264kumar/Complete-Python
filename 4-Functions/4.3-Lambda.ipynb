{
 "cells": [
  {
   "cell_type": "markdown",
   "id": "f02208cc",
   "metadata": {},
   "source": [
    "### Lambda Functions in Python\n",
    "\n",
    "Lambda functions are small anonymous functions defined using the lambda keyword.They can have any number of arguments but only one expression. They are commonly used for short operations or as arguments to higher-order functions."
   ]
  },
  {
   "cell_type": "code",
   "execution_count": null,
   "id": "d3a658a9",
   "metadata": {},
   "outputs": [],
   "source": [
    "# Syntax\n",
    "lambda arguments : expression"
   ]
  },
  {
   "cell_type": "code",
   "execution_count": 1,
   "id": "0f2fb329",
   "metadata": {},
   "outputs": [
    {
     "data": {
      "text/plain": [
       "7"
      ]
     },
     "execution_count": 1,
     "metadata": {},
     "output_type": "execute_result"
    }
   ],
   "source": [
    "def addition(a,b):\n",
    "    return a+b\n",
    "addition(3,4)"
   ]
  },
  {
   "cell_type": "code",
   "execution_count": 3,
   "id": "b87f8fd1",
   "metadata": {},
   "outputs": [
    {
     "name": "stdout",
     "output_type": "stream",
     "text": [
      "6\n"
     ]
    }
   ],
   "source": [
    "addition=lambda a,b : a+b\n",
    "type(addition)\n",
    "print(addition(2,4))"
   ]
  },
  {
   "cell_type": "code",
   "execution_count": 8,
   "id": "bd3c95e5",
   "metadata": {},
   "outputs": [
    {
     "name": "stdout",
     "output_type": "stream",
     "text": [
      "True\n"
     ]
    }
   ],
   "source": [
    "def even(num):\n",
    "    if num%2==0:\n",
    "        return True\n",
    "    return False\n",
    "    \n",
    "print(even(32))"
   ]
  },
  {
   "cell_type": "code",
   "execution_count": 11,
   "id": "59255992",
   "metadata": {},
   "outputs": [
    {
     "name": "stdout",
     "output_type": "stream",
     "text": [
      "False\n",
      "True\n"
     ]
    }
   ],
   "source": [
    "even = lambda num:num%2==0\n",
    "print(even(23))\n",
    "print(even(22390094))"
   ]
  },
  {
   "cell_type": "code",
   "execution_count": 13,
   "id": "42c5eb9d",
   "metadata": {},
   "outputs": [
    {
     "data": {
      "text/plain": [
       "[1, 4, 9, 16, 25, 36]"
      ]
     },
     "execution_count": 13,
     "metadata": {},
     "output_type": "execute_result"
    }
   ],
   "source": [
    "## map()- applies a function to all items in a list\n",
    "numbers=[1,2,3,4,5,6]\n",
    "list(map(lambda x:x**2,numbers))"
   ]
  },
  {
   "cell_type": "code",
   "execution_count": null,
   "id": "2ea337e4",
   "metadata": {},
   "outputs": [],
   "source": []
  }
 ],
 "metadata": {
  "kernelspec": {
   "display_name": "Python 3",
   "language": "python",
   "name": "python3"
  },
  "language_info": {
   "codemirror_mode": {
    "name": "ipython",
    "version": 3
   },
   "file_extension": ".py",
   "mimetype": "text/x-python",
   "name": "python",
   "nbconvert_exporter": "python",
   "pygments_lexer": "ipython3",
   "version": "3.12.0"
  }
 },
 "nbformat": 4,
 "nbformat_minor": 5
}
