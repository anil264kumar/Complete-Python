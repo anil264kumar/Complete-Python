{
 "cells": [
  {
   "cell_type": "markdown",
   "id": "dbddfc97",
   "metadata": {},
   "source": [
    "#### File Operation- Read and Write Files\n",
    "\n",
    "File handling is a crucial part of any programming language. Python provides built-in functions and methods to read from and write to files , both text and binary. This lesson will cover the basics of file handling, including reading and writing text files and binary files."
   ]
  },
  {
   "cell_type": "code",
   "execution_count": 2,
   "id": "b273bdd5",
   "metadata": {},
   "outputs": [
    {
     "name": "stdout",
     "output_type": "stream",
     "text": [
      "Hello How are you?\n",
      "I am fine\n",
      "Welcome to the course\n"
     ]
    }
   ],
   "source": [
    "with open('example.txt','r') as file:\n",
    "    content=file.read()\n",
    "    print(content)"
   ]
  },
  {
   "cell_type": "code",
   "execution_count": 4,
   "id": "287ba762",
   "metadata": {},
   "outputs": [
    {
     "name": "stdout",
     "output_type": "stream",
     "text": [
      "Hello How are you?\n",
      "I am fine\n",
      "Welcome to the course\n"
     ]
    }
   ],
   "source": [
    "### Read a file line by line\n",
    "with open('example.txt','r') as file:\n",
    "    for line in file:\n",
    "        print(line.strip()) ## strip() removes the newline character"
   ]
  },
  {
   "cell_type": "code",
   "execution_count": 1,
   "id": "63af90ca",
   "metadata": {},
   "outputs": [],
   "source": [
    "## writing a file(overwriting)\n",
    "\n",
    "with open('example.txt','w') as file:\n",
    "    file.write('Hello Wordl!\\n')\n",
    "    file.write('This is a new line.')"
   ]
  },
  {
   "cell_type": "code",
   "execution_count": 2,
   "id": "99c44264",
   "metadata": {},
   "outputs": [],
   "source": [
    "## write a file (without overwriting)\n",
    "with open('example.txt','a') as file:\n",
    "    file.write(\"Append operation taking place!\\n\")"
   ]
  },
  {
   "cell_type": "code",
   "execution_count": 3,
   "id": "8dc2527a",
   "metadata": {},
   "outputs": [],
   "source": [
    "### writing a list of lines to a file\n",
    "lines=['First line \\n','second line \\n','Third line\\n']\n",
    "with open(\"example.txt\",'a') as file:\n",
    "    file.writelines(lines)"
   ]
  },
  {
   "cell_type": "code",
   "execution_count": 4,
   "id": "697d87d1",
   "metadata": {},
   "outputs": [],
   "source": [
    "### Binary Files\n",
    "\n",
    "# Writing to a binary file\n",
    "data = b'\\x00\\x01\\x02\\x03\\x04'\n",
    "with open('example.bin','wb') as file:\n",
    "    file.write(data)"
   ]
  },
  {
   "cell_type": "code",
   "execution_count": 5,
   "id": "6df15a4f",
   "metadata": {},
   "outputs": [
    {
     "name": "stdout",
     "output_type": "stream",
     "text": [
      "b'\\x00\\x01\\x02\\x03\\x04'\n"
     ]
    }
   ],
   "source": [
    "# Reading a binary file\n",
    "with open('example.bin','rb') as file:\n",
    "    content = file.read()\n",
    "    print(content)\n"
   ]
  },
  {
   "cell_type": "code",
   "execution_count": 1,
   "id": "85b6e72c",
   "metadata": {},
   "outputs": [],
   "source": [
    "### Read the contents from a source text file and write to a destination text file\n",
    "# copying a text file\n",
    "with open('example.txt','r') as source_file:\n",
    "    content = source_file.read()\n",
    "\n",
    "with open('destination.txt','w') as destination_file:\n",
    "    destination_file.write(content)"
   ]
  },
  {
   "cell_type": "code",
   "execution_count": 4,
   "id": "b639f117",
   "metadata": {},
   "outputs": [
    {
     "name": "stdout",
     "output_type": "stream",
     "text": [
      "Lines: 5, Words : 16 , Characters: 99\n"
     ]
    }
   ],
   "source": [
    "## read file ,count lines, words and character\n",
    "def count_text_file(file_path):\n",
    "    with open(file_path,'r') as file:\n",
    "        lines = file.readlines()\n",
    "        line_count = len(lines)\n",
    "        word_count  = sum (len(line.split()) for line in lines)\n",
    "        char_count = sum(len(line) for line in lines)\n",
    "    return line_count,word_count,char_count\n",
    "\n",
    "\n",
    "file_path='example.txt'\n",
    "lines,words,characters = count_text_file(file_path)\n",
    "print(f\"Lines: {lines}, Words : {words} , Characters: {characters}\")"
   ]
  },
  {
   "cell_type": "markdown",
   "id": "e65dd74c",
   "metadata": {},
   "source": [
    "The w+ mode in Python is used to open a file for both reading and writing. If the file does not exist ,it will be created. If the file exists, its content is truncated (i.e., the file is overwritten)"
   ]
  },
  {
   "cell_type": "code",
   "execution_count": 7,
   "id": "fe19ef75",
   "metadata": {},
   "outputs": [
    {
     "name": "stdout",
     "output_type": "stream",
     "text": [
      "Hello world\n",
      "This is a new line\n",
      "\n"
     ]
    }
   ],
   "source": [
    "### writing and  then reading a file\n",
    "\n",
    "with open('example.txt','w+') as file:\n",
    "    file.write('Hello world\\n')\n",
    "    file.write(\"This is a new line\\n\")\n",
    "\n",
    "    ## Move the file cursor to the beginning\n",
    "    file.seek(0)\n",
    "\n",
    "    ## Read the content of the file\n",
    "    content = file.read()\n",
    "    print(content)\n"
   ]
  },
  {
   "cell_type": "code",
   "execution_count": null,
   "id": "da74893f",
   "metadata": {},
   "outputs": [],
   "source": []
  }
 ],
 "metadata": {
  "kernelspec": {
   "display_name": "Python 3",
   "language": "python",
   "name": "python3"
  },
  "language_info": {
   "codemirror_mode": {
    "name": "ipython",
    "version": 3
   },
   "file_extension": ".py",
   "mimetype": "text/x-python",
   "name": "python",
   "nbconvert_exporter": "python",
   "pygments_lexer": "ipython3",
   "version": "3.12.0"
  }
 },
 "nbformat": 4,
 "nbformat_minor": 5
}
