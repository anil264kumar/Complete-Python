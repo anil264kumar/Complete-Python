{
 "cells": [
  {
   "cell_type": "markdown",
   "id": "4855d351",
   "metadata": {},
   "source": [
    "### Polymorphism\n",
    "\n",
    "Polymorphism is a core concept in OOP that allows objects of different classes to be treated as objects of a common superclass. It provides a way to perform a single action in different forms. Polymorphism is typically achieved thorough method overriding and interfaces."
   ]
  },
  {
   "cell_type": "markdown",
   "id": "26573f4b",
   "metadata": {},
   "source": [
    "### Method Overriding\n",
    "\n",
    "Method overriding allows a  child class to provide a specific implementation of a method that is already defined in its parent class."
   ]
  },
  {
   "cell_type": "code",
   "execution_count": 2,
   "id": "f327f89d",
   "metadata": {},
   "outputs": [
    {
     "name": "stdout",
     "output_type": "stream",
     "text": [
      "woof\n",
      "Meow\n",
      "woof\n"
     ]
    }
   ],
   "source": [
    "## Base class\n",
    "class Animal:\n",
    "    def speak(self):\n",
    "        return \"Sound of the animal\"\n",
    "    \n",
    "## Derived class 1\n",
    "class Dog(Animal):\n",
    "    def speak(self):\n",
    "        return \"woof\"\n",
    "## Derived class\n",
    "class Cat(Animal):\n",
    "    def speak(self):\n",
    "        return \"Meow\"\n",
    "\n",
    "## Function that demonstrates polymorphism\n",
    "def animal_speak(animal):\n",
    "    print(animal.speak())\n",
    "\n",
    "\n",
    "dog=Dog()\n",
    "cat=Cat()\n",
    "print(dog.speak())\n",
    "print(cat.speak())\n",
    "animal_speak(dog)"
   ]
  },
  {
   "cell_type": "code",
   "execution_count": 4,
   "id": "ca995a71",
   "metadata": {},
   "outputs": [
    {
     "name": "stdout",
     "output_type": "stream",
     "text": [
      "the area is 48\n",
      "the area is 78.5\n",
      "the area is 216\n"
     ]
    }
   ],
   "source": [
    "## Polymorphism with Functions and Methods\n",
    "## base class\n",
    "class Shape():\n",
    "    def area(self):\n",
    "        return \"The area of the figure\"\n",
    "## Derived class1\n",
    "class Rectangle(Shape):\n",
    "    def __init__(self,width,breadth):\n",
    "        self.width=width\n",
    "        self.breadth=breadth\n",
    "    def area(self):\n",
    "        return self.width*self.breadth\n",
    "\n",
    "## Derived class2\n",
    "class Circle(Shape):\n",
    "    def __init__(self,radius):\n",
    "        self.radius=radius\n",
    "    \n",
    "    def area(self):\n",
    "        return 3.14*self.radius*self.radius\n",
    "    \n",
    "class Cube(Shape):\n",
    "    def __init__(self,side):\n",
    "        self.side=side\n",
    "    \n",
    "    def area(self):\n",
    "        return 6*self.side*self.side\n",
    "\n",
    "\n",
    "## Function that demonstrate polymorphism\n",
    "\n",
    "def print_area(shape):\n",
    "    print(f\"the area is {shape.area()}\")\n",
    "\n",
    "\n",
    "rectangle=Rectangle(6,8)\n",
    "circle=Circle(5)\n",
    "cube=Cube(6)\n",
    "\n",
    "print_area(rectangle)\n",
    "print_area(circle)\n",
    "print_area(cube)\n",
    "    \n"
   ]
  },
  {
   "cell_type": "markdown",
   "id": "c832ca98",
   "metadata": {},
   "source": [
    "### Polymorphism with Abstract Base Class\n",
    "\n",
    "Abstract Base Classes (ABCs) are used to define common methods for a group of related objects.They can enforce that derived classes implement particular methods, promoting consistency across different implementations."
   ]
  },
  {
   "cell_type": "code",
   "execution_count": 10,
   "id": "33ebf325",
   "metadata": {},
   "outputs": [
    {
     "name": "stdout",
     "output_type": "stream",
     "text": [
      "Bus engine started\n",
      "Ramesh is driving bus.\n"
     ]
    }
   ],
   "source": [
    "from abc import ABC,abstractmethod\n",
    "\n",
    "## Define an abstract class\n",
    "class Vehicle(ABC):\n",
    "    @abstractmethod\n",
    "    def start_engine(self):\n",
    "        pass\n",
    "\n",
    "## Derived class 1\n",
    "class Car(Vehicle):\n",
    "    def start_engine(self):\n",
    "        return \"Car engine started\"\n",
    "\n",
    "## Derived class 2\n",
    "class MotorCylce(Vehicle):\n",
    "    def start_engine(self):\n",
    "        return \"Motorcycle engine started\"\n",
    "\n",
    "## Derived class 3\n",
    "class Bus(Vehicle):\n",
    "    def __init__(self,owner):\n",
    "        self.owner=owner\n",
    "\n",
    "\n",
    "    def start_engine(self):\n",
    "        return \"Bus engine started\"\n",
    "    def drive(self):\n",
    "        return f\"{self.owner} is driving bus.\"\n",
    "\n",
    "    \n",
    "\n",
    "## Function that demonstrates polymorphism\n",
    "def start_vehicle(vehicle):\n",
    "    print(vehicle.start_engine())\n",
    "    print(vehicle.drive())\n",
    "    \n",
    "\n",
    "## Create objects\n",
    "car=Car()\n",
    "motorcycle=MotorCylce()\n",
    "bus=Bus(\"Ramesh\")\n",
    "\n",
    "# start_vehicle(car)\n",
    "# start_vehicle(motorcycle)\n",
    "start_vehicle(bus)\n"
   ]
  },
  {
   "cell_type": "markdown",
   "id": "6f558992",
   "metadata": {},
   "source": [
    "#### Conclusion\n",
    "Polymorphism is a powerful feature of OOP that allows for flexibility and integration in code design. It enables a single function to handle objects of different classes, each with its own implementation of a method. By understanding and applying polymorphism, you can create more extensible and maintainable object-oriented programs."
   ]
  },
  {
   "cell_type": "markdown",
   "id": "6abcc2dd",
   "metadata": {},
   "source": []
  }
 ],
 "metadata": {
  "kernelspec": {
   "display_name": "Python 3",
   "language": "python",
   "name": "python3"
  },
  "language_info": {
   "codemirror_mode": {
    "name": "ipython",
    "version": 3
   },
   "file_extension": ".py",
   "mimetype": "text/x-python",
   "name": "python",
   "nbconvert_exporter": "python",
   "pygments_lexer": "ipython3",
   "version": "3.12.0"
  }
 },
 "nbformat": 4,
 "nbformat_minor": 5
}
