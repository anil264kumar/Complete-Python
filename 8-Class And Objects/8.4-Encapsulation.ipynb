{
 "cells": [
  {
   "cell_type": "markdown",
   "id": "f22ecf5d",
   "metadata": {},
   "source": [
    "#### Encapsulation And Abstraction\n",
    "Encapsulation and abstraction are two fundamental principles of Object-Oriented Programming (OOP) that help in designing robust, maintainable, and reusable code. Encapsulation involves bundling data and methods that operate on the data within a single unit, while abstraction involves hiding complex implementation details and exposing only the necessary features."
   ]
  },
  {
   "cell_type": "markdown",
   "id": "380b07f2",
   "metadata": {},
   "source": [
    "#### Encapsulation\n",
    "Encapsulation is the concept of wrapping data (variables) and methods (functions) together as a single unit. It restricts direct access to some of the object's components, which is a means of preventing accidental interference and misuse of the data."
   ]
  },
  {
   "cell_type": "code",
   "execution_count": null,
   "id": "de62c663",
   "metadata": {},
   "outputs": [
    {
     "data": {
      "text/plain": [
       "'Jack'"
      ]
     },
     "execution_count": 4,
     "metadata": {},
     "output_type": "execute_result"
    }
   ],
   "source": [
    "### Encapulation with Getter and Setter Methods\n",
    "### Public , protected, private variables or access modifiers\n",
    "\n",
    "class Person:\n",
    "    def __init__(self,name,age):\n",
    "        self.name=name #public variable\n",
    "        self.age=age   #public variable\n",
    "\n",
    "def get_name(person):\n",
    "    return person.name\n",
    "\n",
    "person=Person(\"Jack\",25)\n",
    "get_name(person)\n"
   ]
  },
  {
   "cell_type": "code",
   "execution_count": 2,
   "id": "453d85f7",
   "metadata": {},
   "outputs": [
    {
     "data": {
      "text/plain": [
       "['__class__',\n",
       " '__delattr__',\n",
       " '__dict__',\n",
       " '__dir__',\n",
       " '__doc__',\n",
       " '__eq__',\n",
       " '__format__',\n",
       " '__ge__',\n",
       " '__getattribute__',\n",
       " '__getstate__',\n",
       " '__gt__',\n",
       " '__hash__',\n",
       " '__init__',\n",
       " '__init_subclass__',\n",
       " '__le__',\n",
       " '__lt__',\n",
       " '__module__',\n",
       " '__ne__',\n",
       " '__new__',\n",
       " '__reduce__',\n",
       " '__reduce_ex__',\n",
       " '__repr__',\n",
       " '__setattr__',\n",
       " '__sizeof__',\n",
       " '__str__',\n",
       " '__subclasshook__',\n",
       " '__weakref__',\n",
       " 'age',\n",
       " 'name']"
      ]
     },
     "execution_count": 2,
     "metadata": {},
     "output_type": "execute_result"
    }
   ],
   "source": [
    "dir(person)"
   ]
  },
  {
   "cell_type": "code",
   "execution_count": null,
   "id": "99054540",
   "metadata": {},
   "outputs": [
    {
     "ename": "AttributeError",
     "evalue": "'Person' object has no attribute '__name'",
     "output_type": "error",
     "traceback": [
      "\u001b[31m---------------------------------------------------------------------------\u001b[39m",
      "\u001b[31mAttributeError\u001b[39m                            Traceback (most recent call last)",
      "\u001b[36mCell\u001b[39m\u001b[36m \u001b[39m\u001b[32mIn[15]\u001b[39m\u001b[32m, line 11\u001b[39m\n\u001b[32m      8\u001b[39m     \u001b[38;5;28;01mreturn\u001b[39;00m person.__name\n\u001b[32m     10\u001b[39m person=Person(\u001b[33m\"\u001b[39m\u001b[33mKrish\u001b[39m\u001b[33m\"\u001b[39m ,\u001b[32m33\u001b[39m,\u001b[32m5.11\u001b[39m)\n\u001b[32m---> \u001b[39m\u001b[32m11\u001b[39m \u001b[43mget_name\u001b[49m\u001b[43m(\u001b[49m\u001b[43mperson\u001b[49m\u001b[43m)\u001b[49m\n",
      "\u001b[36mCell\u001b[39m\u001b[36m \u001b[39m\u001b[32mIn[15]\u001b[39m\u001b[32m, line 8\u001b[39m, in \u001b[36mget_name\u001b[39m\u001b[34m(person)\u001b[39m\n\u001b[32m      7\u001b[39m \u001b[38;5;28;01mdef\u001b[39;00m\u001b[38;5;250m \u001b[39m\u001b[34mget_name\u001b[39m(person):\n\u001b[32m----> \u001b[39m\u001b[32m8\u001b[39m     \u001b[38;5;28;01mreturn\u001b[39;00m \u001b[43mperson\u001b[49m\u001b[43m.\u001b[49m\u001b[43m__name\u001b[49m\n",
      "\u001b[31mAttributeError\u001b[39m: 'Person' object has no attribute '__name'"
     ]
    }
   ],
   "source": [
    "class Person:\n",
    "    def __init__(self,name,age,height):\n",
    "        self.__name=name #private variable\n",
    "        self.__age=age   #private variable\n",
    "        self.height=height  ## public variable\n",
    "\n",
    "def get_name(person):\n",
    "    return person.__name\n",
    "\n",
    "person=Person(\"Krish\" ,33,5.11)\n",
    "get_name(person)\n",
    "\n"
   ]
  },
  {
   "cell_type": "code",
   "execution_count": 13,
   "id": "dad8aab3",
   "metadata": {},
   "outputs": [
    {
     "data": {
      "text/plain": [
       "['_Person__age',\n",
       " '_Person__name',\n",
       " '__class__',\n",
       " '__delattr__',\n",
       " '__dict__',\n",
       " '__dir__',\n",
       " '__doc__',\n",
       " '__eq__',\n",
       " '__format__',\n",
       " '__ge__',\n",
       " '__getattribute__',\n",
       " '__getstate__',\n",
       " '__gt__',\n",
       " '__hash__',\n",
       " '__init__',\n",
       " '__init_subclass__',\n",
       " '__le__',\n",
       " '__lt__',\n",
       " '__module__',\n",
       " '__ne__',\n",
       " '__new__',\n",
       " '__reduce__',\n",
       " '__reduce_ex__',\n",
       " '__repr__',\n",
       " '__setattr__',\n",
       " '__sizeof__',\n",
       " '__str__',\n",
       " '__subclasshook__',\n",
       " '__weakref__',\n",
       " 'height']"
      ]
     },
     "execution_count": 13,
     "metadata": {},
     "output_type": "execute_result"
    }
   ],
   "source": [
    "person=Person(\"Krish\" ,33,5.11)\n",
    "dir(person)"
   ]
  },
  {
   "cell_type": "code",
   "execution_count": 32,
   "id": "05a3ba63",
   "metadata": {},
   "outputs": [
    {
     "name": "stdout",
     "output_type": "stream",
     "text": [
      "22\n"
     ]
    }
   ],
   "source": [
    "class Person:\n",
    "    def __init__(self,name,age,gender):\n",
    "        self._name=name # protected  variable\n",
    "        self._age=age\n",
    "        self.gender=gender\n",
    "\n",
    "class Employee(Person):\n",
    "    def __init__(self,name,age,gender):\n",
    "        super().__init__(name,age,gender)\n",
    "\n",
    "employee=Employee(\"Harsh\",22,\"Male\")\n",
    "print(employee._age)\n"
   ]
  },
  {
   "cell_type": "code",
   "execution_count": 33,
   "id": "501a53a8",
   "metadata": {},
   "outputs": [
    {
     "data": {
      "text/plain": [
       "['__class__',\n",
       " '__delattr__',\n",
       " '__dict__',\n",
       " '__dir__',\n",
       " '__doc__',\n",
       " '__eq__',\n",
       " '__format__',\n",
       " '__ge__',\n",
       " '__getattribute__',\n",
       " '__getstate__',\n",
       " '__gt__',\n",
       " '__hash__',\n",
       " '__init__',\n",
       " '__init_subclass__',\n",
       " '__le__',\n",
       " '__lt__',\n",
       " '__module__',\n",
       " '__ne__',\n",
       " '__new__',\n",
       " '__reduce__',\n",
       " '__reduce_ex__',\n",
       " '__repr__',\n",
       " '__setattr__',\n",
       " '__sizeof__',\n",
       " '__str__',\n",
       " '__subclasshook__',\n",
       " '__weakref__',\n",
       " '_age',\n",
       " '_name',\n",
       " 'gender']"
      ]
     },
     "execution_count": 33,
     "metadata": {},
     "output_type": "execute_result"
    }
   ],
   "source": [
    "dir(employee)"
   ]
  },
  {
   "cell_type": "code",
   "execution_count": 9,
   "id": "55ca6d57",
   "metadata": {},
   "outputs": [
    {
     "name": "stdout",
     "output_type": "stream",
     "text": [
      "33\n",
      "Krish\n",
      "Age cannot be negative.\n",
      "33\n",
      "Harsh\n"
     ]
    }
   ],
   "source": [
    "### Encapsulation with Getter and Setter\n",
    "class Person:\n",
    "    def __init__(self,name,age):\n",
    "        self.__name=name\n",
    "        self.__age=age\n",
    "\n",
    "    ## getter method for name\n",
    "    def get_name(self):\n",
    "        return self.__name\n",
    "    \n",
    "    ## setter method for name\n",
    "    def set_name(self,name):\n",
    "        self.__name=name\n",
    "\n",
    "    ## getter method for the age\n",
    "    def get_age(self):\n",
    "        return self.__age\n",
    "    \n",
    "    ## setter method for the age\n",
    "    def set_age(self,age):\n",
    "        if age>0:\n",
    "            self.__age=age\n",
    "        else:\n",
    "            print(\"Age cannot be negative.\")\n",
    "        \n",
    "person=Person(\"Krish\",33)\n",
    "# print(dir(person))\n",
    "\n",
    "## Access and modify private variables using getter and setter\n",
    "\n",
    "print(person.get_age())\n",
    "print(person.get_name())\n",
    "\n",
    "\n",
    "person.set_age(-5)\n",
    "print(person.get_age())\n",
    "\n",
    "person.set_name(\"Harsh\")\n",
    "print(person.get_name())\n"
   ]
  },
  {
   "cell_type": "code",
   "execution_count": null,
   "id": "7fcea4be",
   "metadata": {},
   "outputs": [],
   "source": []
  }
 ],
 "metadata": {
  "kernelspec": {
   "display_name": "Python 3",
   "language": "python",
   "name": "python3"
  },
  "language_info": {
   "codemirror_mode": {
    "name": "ipython",
    "version": 3
   },
   "file_extension": ".py",
   "mimetype": "text/x-python",
   "name": "python",
   "nbconvert_exporter": "python",
   "pygments_lexer": "ipython3",
   "version": "3.12.0"
  }
 },
 "nbformat": 4,
 "nbformat_minor": 5
}
