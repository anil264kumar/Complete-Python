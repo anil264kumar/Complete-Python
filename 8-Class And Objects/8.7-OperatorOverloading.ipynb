{
 "cells": [
  {
   "cell_type": "markdown",
   "id": "ca68001b",
   "metadata": {},
   "source": [
    "#### Operator Overloading\n",
    "\n",
    "Operator overloading allows you to define the behaviour of operators(+,-,*,etc.) for custom objects. You achieve this by overriding specific magic methods in your class."
   ]
  },
  {
   "cell_type": "code",
   "execution_count": null,
   "id": "db855f8c",
   "metadata": {},
   "outputs": [],
   "source": [
    "#### Common Operator Overloading Magic Methods\n",
    "'''\n",
    "__add__(self, other): Adds two objects using the + operator.\n",
    "__sub__(self, other): Subtracts two objects using the - operator.\n",
    "__mul__(self, other): Multiplies two objects using the * operator.\n",
    "__truediv__(self, other): Divides two objects using the / operator.\n",
    "__eq__(self, other): Checks if two objects are equal using the == operator.\n",
    "__lt__(self, other): Checks if one object is less than another using the < operator\n",
    "__gt__(self,other) : Check if one object is greater than another using > operator\n",
    "\n",
    "'''"
   ]
  },
  {
   "cell_type": "code",
   "execution_count": 9,
   "id": "6535865f",
   "metadata": {},
   "outputs": [
    {
     "name": "stdout",
     "output_type": "stream",
     "text": [
      "Vector(7, 13)\n",
      "Vector(3, 3)\n",
      "Vector(10, 40)\n"
     ]
    }
   ],
   "source": [
    "class Vector:\n",
    "    def __init__(self,x,y):\n",
    "        self.x=x\n",
    "        self.y=y\n",
    "    \n",
    "    def __add__(self,other):\n",
    "        return Vector(self.x+other.x,self.y+other.y)\n",
    "    \n",
    "    def __sub__(self,other):\n",
    "        return Vector(self.x-other.x,self.y-other.y)\n",
    "    \n",
    "    def __mul__(self,other):\n",
    "        return Vector(self.x*other.x,self.y*other.y)\n",
    "    \n",
    "    def __eq__(self,other):\n",
    "        return Vector(self.x == other.x , self.y == other.y)\n",
    "    \n",
    "    def __repr__(self):\n",
    "        return f\"Vector({self.x}, {self.y})\"\n",
    "    \n",
    "\n",
    "## create objects of the vector class\n",
    "\n",
    "v1=Vector(5,8)\n",
    "v2=Vector(2,5)\n",
    "\n",
    "print(v1+v2)\n",
    "print(v1-v2)\n",
    "print(v1*v2)\n"
   ]
  },
  {
   "cell_type": "code",
   "execution_count": 28,
   "id": "eb82ce9d",
   "metadata": {},
   "outputs": [
    {
     "name": "stdout",
     "output_type": "stream",
     "text": [
      "6 - 2i\n",
      "2 - 8i\n",
      "23 + 2i\n",
      "-0.5384615384615384 - 1.6923076923076923i\n",
      "False\n"
     ]
    }
   ],
   "source": [
    "### Overloading for the complex numbers\n",
    "class ComplexNumber:\n",
    "    def __init__(self,real,imaginary):\n",
    "        self.real=real\n",
    "        self.imaginary=imaginary\n",
    "    \n",
    "    def __str__(self):\n",
    "        if self.imaginary > 0 :\n",
    "            return f\"{self.real} + {self.imaginary}i\"\n",
    "        else:\n",
    "            return f\"{self.real} - {-self.imaginary}i\"\n",
    "    \n",
    "    def __add__(self,other):\n",
    "        return ComplexNumber(self.real + other.real, self.imaginary + other.imaginary)\n",
    "    \n",
    "    def __sub__(self,other):\n",
    "        return ComplexNumber(self.real - other.real, self.imaginary - other.imaginary)\n",
    "    \n",
    "    def __mul__(self,other):\n",
    "        real_part= (self.real * other.real) - (self.imaginary * other.imaginary)\n",
    "        imag_part= (self.real * other.imaginary) + (self.imaginary * other.real)\n",
    "        return ComplexNumber(real_part,imag_part)  \n",
    "    \n",
    "    def __truediv__(self, other):\n",
    "        denominator = other.real**2 + other.imaginary**2\n",
    "        real_part = (self.real * other.real + self.imaginary * other.imaginary) / denominator\n",
    "        imag_part = (self.imaginary * other.real - self.real * other.imaginary) / denominator\n",
    "        return ComplexNumber(real_part, imag_part)\n",
    "    \n",
    "    def __eq__(self,other):\n",
    "        return self.real == other.real and self.imaginary == other.imaginary\n",
    "    \n",
    "  \n",
    "    \n",
    "    \n",
    "    \n",
    "\n",
    "\n",
    "## create objects of the ComplexNumber\n",
    "c1=ComplexNumber(4,-5)\n",
    "c2=ComplexNumber(2,3)\n",
    "\n",
    "## Use Overload operators\n",
    "print(c1+c2)\n",
    "print(c1-c2)\n",
    "print(c1*c2)\n",
    "print(c1/c2)\n",
    "print(c1 == c2)\n",
    "\n",
    "        \n"
   ]
  },
  {
   "cell_type": "code",
   "execution_count": null,
   "id": "cda1faa6",
   "metadata": {},
   "outputs": [],
   "source": []
  }
 ],
 "metadata": {
  "kernelspec": {
   "display_name": "Python 3",
   "language": "python",
   "name": "python3"
  },
  "language_info": {
   "codemirror_mode": {
    "name": "ipython",
    "version": 3
   },
   "file_extension": ".py",
   "mimetype": "text/x-python",
   "name": "python",
   "nbconvert_exporter": "python",
   "pygments_lexer": "ipython3",
   "version": "3.12.0"
  }
 },
 "nbformat": 4,
 "nbformat_minor": 5
}
