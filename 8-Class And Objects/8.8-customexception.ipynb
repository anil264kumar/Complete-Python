{
 "cells": [
  {
   "cell_type": "markdown",
   "id": "4cf7b148",
   "metadata": {},
   "source": [
    "#### Custom exception (Raise and Throw an exception)"
   ]
  },
  {
   "cell_type": "code",
   "execution_count": 1,
   "id": "8ef022f4",
   "metadata": {},
   "outputs": [],
   "source": [
    "class Error(Exception):\n",
    "    pass\n",
    "\n",
    "class dobException(Error):\n",
    "    pass\n"
   ]
  },
  {
   "cell_type": "code",
   "execution_count": 6,
   "id": "16182570",
   "metadata": {},
   "outputs": [
    {
     "name": "stdout",
     "output_type": "stream",
     "text": [
      "The age is valid so you apply for the exam\n"
     ]
    }
   ],
   "source": [
    "year=int(input(\"Enter the dob (year)\"))\n",
    "age=2024-year\n",
    "\n",
    "try:\n",
    "    if age<=30 and age>=20:\n",
    "        print(\"The age is valid so you apply for the exam\")\n",
    "    else: \n",
    "        raise dobException\n",
    "except dobException:\n",
    "    print(\"Sorry ,your age should be greater than 20 and less than 30\")"
   ]
  },
  {
   "cell_type": "code",
   "execution_count": null,
   "id": "1c9d57ee",
   "metadata": {},
   "outputs": [],
   "source": []
  }
 ],
 "metadata": {
  "kernelspec": {
   "display_name": "Python 3",
   "language": "python",
   "name": "python3"
  },
  "language_info": {
   "codemirror_mode": {
    "name": "ipython",
    "version": 3
   },
   "file_extension": ".py",
   "mimetype": "text/x-python",
   "name": "python",
   "nbconvert_exporter": "python",
   "pygments_lexer": "ipython3",
   "version": "3.12.0"
  }
 },
 "nbformat": 4,
 "nbformat_minor": 5
}
